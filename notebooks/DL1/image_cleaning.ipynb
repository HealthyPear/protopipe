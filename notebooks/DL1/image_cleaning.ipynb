{
 "cells": [
  {
   "cell_type": "markdown",
   "metadata": {},
   "source": [
    "# Image cleaning"
   ]
  },
  {
   "cell_type": "markdown",
   "metadata": {},
   "source": [
    "**Author(s):**\n",
    " - Dr. Michele Peresano (CEA-Saclay/IRFU/DAp/LEPCHE), 2020\n",
    "\n",
    "**Description:**\n",
    "\n",
    "This notebook contains DL1-image-cleaning plots and benchmark proposals for the _protopipe_ pipeline.  \n",
    "This was mainly triggered by the step-by-step comparison against _CTA-MARS_, but it can be extended to other pipelines as well.  \n",
    "**NOTE** Let's try to follow [this](https://www.overleaf.com/16933164ghbhvjtchknf) document by adding those benchmarks or proposing new ones.  \n",
    "**WARNING** Contrary to the calibration notebook, I am still working on this one, so it's a bit messy and incomplete! \n",
    "\n",
    "**Requirements:**\n",
    "\n",
    "To run this notebook you will need a DL1 file which can be generated using _protopipe.scripts.write_dl1.py_ .    \n",
    "Reference simtel-file, plots, values and settings can be found [here (please, always refer to the latest version)](https://forge.in2p3.fr/projects/benchmarks-reference-analysis/wiki/Comparisons_between_pipelines) until we have a more automatic and fancy approach (aka [cta-benchmarks](https://github.com/cta-observatory/cta-benchmarks)+[ctaplot](https://github.com/cta-observatory/ctaplot)).  \n",
    "\n",
    "The data format required to run the notebook is the current one used by _protopipe_ . Later on it will be the same as in _ctapipe_ .  \n",
    "**WARNING:** Mono-telescope images (2 triggers - 1 image or 1 trigger - 1 image) are not currently taken into account by the publicly available development version (the new DL1 script will have them), until then expect a somewhat lower statistics.\n",
    "\n",
    "**Development and testing:**  \n",
    "\n",
    "For the moment this notebook is optimized to work only on files produced from LSTCam + NectarCam telescope configurations.  \n",
    "As with any other part of _protopipe_ and being part of the official repository, this notebook can be further developed by any interested contributor.  \n",
    "The execution of this notebook is not currently automatic, it must be done locally by the user - preferably _before_ pushing a pull-request.\n",
    "\n",
    "**TODO:**  \n",
    "* fix best I/O\n",
    "* add missing plots in section [Total image charge (\"Intensity\") resolution for selected images\"](https://forge.in2p3.fr/projects/step-by-step-reference-mars-analysis/wiki#Total-image-charge-Intensity-resolution-for-selected-images)\n",
    "* finish Direction LUTs and clean-up\n",
    "* even better: make _direction reconstruction_ a separate notebook because in the new format will be part of DL2"
   ]
  },
  {
   "cell_type": "markdown",
   "metadata": {},
   "source": [
    "## Imports"
   ]
  },
  {
   "cell_type": "code",
   "execution_count": null,
   "metadata": {},
   "outputs": [],
   "source": [
    "# import tables\n",
    "# import h5py\n",
    "from pathlib import Path\n",
    "import numpy as np\n",
    "import pandas\n",
    "from scipy.stats import binned_statistic, binned_statistic_2d, cumfreq, percentileofscore\n",
    "from astropy import units as u\n",
    "from astropy.table import Table\n",
    "import matplotlib.pyplot as plt\n",
    "from matplotlib.colors import LogNorm\n",
    "from mpl_toolkits.mplot3d import Axes3D\n",
    "\n",
    "from ctapipe.instrument import OpticsDescription\n",
    "from ctapipe.image.hillas import camera_to_shower_coordinates"
   ]
  },
  {
   "cell_type": "markdown",
   "metadata": {},
   "source": [
    "## Functions"
   ]
  },
  {
   "cell_type": "markdown",
   "metadata": {},
   "source": [
    "### Load the base data file or reset it if overwritten"
   ]
  },
  {
   "cell_type": "markdown",
   "metadata": {},
   "source": [
    "This part has multiple I/O approaches because I am still testing which is best.  \n",
    "It's possible that with the new data format this will be much easier."
   ]
  },
  {
   "cell_type": "code",
   "execution_count": null,
   "metadata": {},
   "outputs": [],
   "source": [
    "def load_reset_dl1(indir = \"./\", fileName = \"dl1_tail_gamma_z20_az180_LaPalma_baseline_run100_withMono.h5\", config=\"test\"):\n",
    "    \"\"\"(Re)load the file containing DL1(a) data and extract the data per telescope type.\"\"\"\n",
    "    # load DL1 images\n",
    "    data = tables.open_file(f\"{indir}/{fileName}\")\n",
    "    data_LST = data.get_node(\"/feature_events_LSTCam\")\n",
    "    data_MST = data.get_node(\"/feature_events_NectarCam\")\n",
    "    suffix = config # all generated plots will have this as a suffix in their name\n",
    "    return data_LST, data_MST, suffix"
   ]
  },
  {
   "cell_type": "code",
   "execution_count": null,
   "metadata": {},
   "outputs": [],
   "source": [
    "def load_reset_dl1_astropy(indir = \"./\", fileName = \"dl1_tail_gamma_z20_az180_LaPalma_baseline_run100_withMono.h5\", config=\"test\"):\n",
    "    \"\"\"(Re)load the file containing DL1(a) data and extract the data per telescope type.\"\"\"\n",
    "    # load DL1 images\n",
    "    data_LST = Table.read(f\"{indir}/{fileName}\", path=\"/feature_events_LSTCam\", format='hdf5')\n",
    "    data_MST = Table.read(f\"{indir}/{fileName}\", path=\"/feature_events_NectarCam\", format='hdf5')\n",
    "    suffix = config # all generated plots will have this as a suffix in their name\n",
    "    return data_LST, data_MST, suffix"
   ]
  },
  {
   "cell_type": "code",
   "execution_count": null,
   "metadata": {},
   "outputs": [],
   "source": [
    "def load_reset_dl1_pandas(indir = \"./\", fileName = \"dl1_tail_gamma_z20_az180_LaPalma_baseline_run100_withMono.h5\", config=\"test\"):\n",
    "    \"\"\"(Re)load the file containing DL1(a) data and extract the data per telescope type.\"\"\"\n",
    "    # load DL1 images\n",
    "    data_LST = pandas.read_hdf(f\"{indir}/{fileName}\", \"/feature_events_LSTCam\")\n",
    "    data_MST = pandas.read_hdf(f\"{indir}/{fileName}\", \"/feature_events_NectarCam\")\n",
    "    suffix = config # all generated plots will have this as a suffix in their name\n",
    "    return data_LST, data_MST, suffix"
   ]
  },
  {
   "cell_type": "markdown",
   "metadata": {},
   "source": [
    "### Convert distances in degrees (approximate result)"
   ]
  },
  {
   "cell_type": "code",
   "execution_count": null,
   "metadata": {},
   "outputs": [],
   "source": [
    "def distance_deg(distance, focal_length):\n",
    "    '''Convert astropy distance numpy array in meters to astropy degrees.'''\n",
    "    return np.degrees(np.arctan(distance/focal_length))"
   ]
  },
  {
   "cell_type": "markdown",
   "metadata": {},
   "source": [
    "### DL1 quantities to plot"
   ]
  },
  {
   "cell_type": "code",
   "execution_count": null,
   "metadata": {},
   "outputs": [],
   "source": [
    "def dl1_quantities(data):\n",
    "    \"\"\"A dictionary of the quantities available with this format of DL1 in protopipe.\n",
    "    \n",
    "    WARNING: for the moment protopipe uses one cleaning algorithm (biggest cluster),\n",
    "    even though it allows for two;\n",
    "    this means that all the quantities with the suffix \"_reco\" are the same as those without suffix.\n",
    "    \"\"\"\n",
    "    \n",
    "    if type(data)!=pandas.core.frame.DataFrame:\n",
    "        \n",
    "        dictionary = {\n",
    "\n",
    "            \"Intensity [#phe]\"   : data.col(\"sum_signal_cam\"), # aka SIZE\n",
    "            \"Width [m]\"          : data.col(\"width\"),\n",
    "            \"Length [m]\"         : data.col(\"length\"),\n",
    "            \"Skewness\"           : data.col(\"skewness\"),\n",
    "            \"Kurtosis\"           : data.col(\"kurtosis\"),\n",
    "            \"H_max [m]\"          : data.col(\"h_max\"),\n",
    "            \"n_pixel\"            : data.col(\"n_pixel\"),\n",
    "            \"Ellipticity\"        : data.col(\"ellipticity\"),\n",
    "#             \"Leakage 1\"          : data.col(\"leak1_reco\")  # see cta-observatory/protopipe#41\n",
    "            \"psi\"                : (data.col(\"psi_reco\") * u.deg).to(u.rad),\n",
    "            \"cog_x\"              : data.col(\"cog_x\"),\n",
    "            \"cog_y\"              : data.col(\"cog_y\"),\n",
    "\n",
    "        }\n",
    "        \n",
    "    else:\n",
    "        \n",
    "        dictionary = {\n",
    "\n",
    "            \"Intensity [#phe]\"   : data[\"sum_signal_cam\"], # aka SIZE\n",
    "            \"Width [m]\"          : data[\"width\"],\n",
    "            \"Length [m]\"         : data[\"length\"],\n",
    "            \"Skewness\"           : data[\"skewness\"],\n",
    "            \"Kurtosis\"           : data[\"kurtosis\"],\n",
    "            \"H_max [m]\"          : data[\"h_max\"],\n",
    "            \"n_pixel\"            : data[\"n_pixel\"],\n",
    "            \"Ellipticity\"        : data[\"ellipticity\"],\n",
    "    #         \"Leakage 1\"          : data.col(\"leak1_reco\")  # see cta-observatory/protopipe#41\n",
    "            \"psi\"                : data[\"psi_reco\"],\n",
    "            \"cog_x\"              : data[\"cog_x\"],\n",
    "            \"cog_y\"              : data[\"cog_y\"],            \n",
    "\n",
    "        }\n",
    "    \n",
    "    return dictionary"
   ]
  },
  {
   "cell_type": "markdown",
   "metadata": {},
   "source": [
    "### Add statistical information to a plot"
   ]
  },
  {
   "cell_type": "code",
   "execution_count": null,
   "metadata": {},
   "outputs": [],
   "source": [
    "def add_stats(x, ax):\n",
    "    \"\"\"Add a textbox containing statistical information.\"\"\"\n",
    "    mu = x.mean()\n",
    "    median = np.median(x)\n",
    "    sigma = x.std()\n",
    "    textstr = '\\n'.join((\n",
    "        r'$\\mu=%.2f$' % (mu, ),\n",
    "        r'$\\mathrm{median}=%.2f$' % (median, ),\n",
    "        r'$\\sigma=%.2f$' % (sigma, )))\n",
    "\n",
    "    # these are matplotlib.patch.Patch properties\n",
    "    props = dict(boxstyle='round', facecolor='wheat', alpha=0.5)\n",
    "\n",
    "    # place a text box in upper left in axes coords\n",
    "    ax.text(0.70, 0.85, \n",
    "            textstr, \n",
    "            transform=ax.transAxes, \n",
    "            fontsize=10,\n",
    "            horizontalalignment='left',\n",
    "            verticalalignment='center', \n",
    "            bbox=props)"
   ]
  },
  {
   "cell_type": "markdown",
   "metadata": {},
   "source": [
    "## Plots"
   ]
  },
  {
   "cell_type": "markdown",
   "metadata": {},
   "source": [
    "First we check if a _plots_ folder exists already.  \n",
    "If not, we create it."
   ]
  },
  {
   "cell_type": "code",
   "execution_count": null,
   "metadata": {},
   "outputs": [],
   "source": [
    "Path(\"./plots_image_cleaning\").mkdir(parents=True, exist_ok=True)"
   ]
  },
  {
   "cell_type": "markdown",
   "metadata": {},
   "source": [
    "An initial set of plots could be:\n",
    " - distribution of photoelectrons in the camera after cleaning\n",
    " - distribution of all Hillas parameters"
   ]
  },
  {
   "cell_type": "code",
   "execution_count": null,
   "metadata": {},
   "outputs": [],
   "source": [
    "# fill with the correct path, filename of the generated file in your system\n",
    "data_LST, data_MST, config = load_reset_dl1_pandas()\n",
    "cameras = [\"LSTCam\", \"NectarCam\"]"
   ]
  },
  {
   "cell_type": "markdown",
   "metadata": {},
   "source": [
    "PROBLEM:\n",
    "in CTA-MARS the image cleaning properties are weighted using the 'miss' parameter which we don't have straight from the file.\n",
    "\n",
    "We can calculate it:\n",
    "_miss__ is just the minimum distance between the true gamma-ray position and the image axis.\n",
    "we have both the x-axis of the camera and the angle between it and the image axis.\n",
    "\n",
    "TODO:\n",
    "* decide if calculating it here or directly from ctapipe/protopipe"
   ]
  },
  {
   "cell_type": "code",
   "execution_count": null,
   "metadata": {},
   "outputs": [],
   "source": [
    "lst_optics = OpticsDescription.from_name(\"LST\")\n",
    "mst_optics = OpticsDescription.from_name(\"MST\")\n",
    "foc_length_lst = lst_optics.equivalent_focal_length\n",
    "foc_length_mst = mst_optics.equivalent_focal_length"
   ]
  },
  {
   "cell_type": "code",
   "execution_count": null,
   "metadata": {},
   "outputs": [],
   "source": [
    "# result in meters\n",
    "disp_lst, miss_lst = camera_to_shower_coordinates(0., 0., data_LST[\"cog_x\"], data_LST[\"cog_y\"], data_LST[\"psi\"])\n",
    "disp_mst, miss_mst = camera_to_shower_coordinates(0., 0., data_MST[\"cog_x\"], data_MST[\"cog_y\"], data_MST[\"psi\"])\n",
    "# convert miss parameter from meters to degrees (WARNING: calculation probably approximate or even wrong)\n",
    "miss_lst_deg = distance_deg(miss_lst, foc_length_lst.value)\n",
    "miss_mst_deg = distance_deg(miss_mst, foc_length_mst.value)\n",
    "miss_deg = [miss_lst_deg, miss_mst_deg]"
   ]
  },
  {
   "cell_type": "code",
   "execution_count": null,
   "metadata": {},
   "outputs": [],
   "source": [
    "# Get DL1 quantities as numpy arrays or pandas.Dataframe columns\n",
    "DL1_LST = dl1_quantities(data_LST)\n",
    "DL1_MST = dl1_quantities(data_MST)\n",
    "DL1 = [DL1_LST, DL1_MST]"
   ]
  },
  {
   "cell_type": "code",
   "execution_count": null,
   "metadata": {},
   "outputs": [],
   "source": [
    "# add miss**2 to DL1 dictionaries in pandas format\n",
    "for camera_index in range(len(cameras)):\n",
    "    DL1[camera_index][\"miss2 [deg**2]\"] = miss_deg[camera_index]**2"
   ]
  },
  {
   "cell_type": "code",
   "execution_count": null,
   "metadata": {},
   "outputs": [],
   "source": [
    "# build LUTs of Intensity and w/l\n",
    "H = [None for camera_index in range(len(cameras))]\n",
    "xedges = [None for camera_index in range(len(cameras))]\n",
    "yedges = [None for camera_index in range(len(cameras))]\n",
    "nbins_x = 13\n",
    "nbins_y = 20\n",
    "for camera_index in range(len(cameras)):\n",
    "    H[camera_index], xedges[camera_index], yedges[camera_index] = np.histogram2d(np.log10(DL1[camera_index][\"Intensity [#phe]\"]),\n",
    "                     (DL1[camera_index][\"Ellipticity\"]), bins=[nbins_x,nbins_y], range=[[1.,6.],[0.,1.]])"
   ]
  },
  {
   "cell_type": "code",
   "execution_count": null,
   "metadata": {},
   "outputs": [],
   "source": [
    "# calculate average miss*2\n",
    "nbins_x = 13\n",
    "nbins_y = 20\n",
    "average_miss2 = [np.zeros((13, 20)),np.zeros((13, 20))]\n",
    "for camera_index in range(len(cameras)):\n",
    "    for x_bin in range(nbins_x):\n",
    "        for y_bin in range(nbins_y):\n",
    "            min_intensity = xedges[camera_index][x_bin]\n",
    "            max_intensity = xedges[camera_index][x_bin+1]\n",
    "            min_ellipticity = yedges[camera_index][y_bin]\n",
    "            max_ellipticity = yedges[camera_index][y_bin+1]\n",
    "            intensity = DL1[camera_index][\"Intensity [#phe]\"]\n",
    "            ellipticity = DL1[camera_index][\"Ellipticity\"]\n",
    "            selected_images = (np.log10(intensity) >= min_intensity) & (np.log10(intensity) < max_intensity) & (ellipticity >= min_ellipticity) & (ellipticity < max_ellipticity)\n",
    "            filtered_miss2 = DL1[camera_index][\"miss2 [deg**2]\"][selected_images]\n",
    "            average_miss2[camera_index][x_bin][y_bin] = filtered_miss2.mean()"
   ]
  },
  {
   "cell_type": "markdown",
   "metadata": {},
   "source": [
    "### Direction Look-up table (counts)"
   ]
  },
  {
   "cell_type": "code",
   "execution_count": null,
   "metadata": {},
   "outputs": [],
   "source": [
    "nbins_x = 13\n",
    "nbins_y = 20\n",
    "cameras = [\"LSTCam\", \"NectarCam\"]\n",
    "LUTs = [None] * len(cameras)\n",
    "\n",
    "for camera_index in range(len(cameras)):\n",
    "    \n",
    "    fig = plt.figure(figsize=(6, 5), tight_layout=False)\n",
    "    plt.xlabel(\"log10(Intensity ['phe'])\")\n",
    "    plt.ylabel(\"Ellipticity [Width [m] / Length [m]]\")\n",
    "    \n",
    "    LUT= plt.hist2d(np.log10(DL1[camera_index][\"Intensity [#phe]\"]),\n",
    "                     DL1[camera_index][\"Ellipticity\"],\n",
    "                   bins=[nbins_x, nbins_y],\n",
    "                   range=[[1.,6.],[0.,1.]],\n",
    "                   norm=LogNorm(),\n",
    "                   cmap=plt.cm.rainbow,\n",
    "                  )\n",
    "    \n",
    "    plt.colorbar()\n",
    "    \n",
    "    LUTs[camera_index] = LUT\n",
    "    \n",
    "    fig.savefig(f\"./plots_image_cleaning/directionLUTsCounts_{cameras[camera_index]}_protopipe_{config}.png\")"
   ]
  },
  {
   "cell_type": "markdown",
   "metadata": {},
   "source": [
    "### Direction Look-up Table (miss**2)"
   ]
  },
  {
   "cell_type": "code",
   "execution_count": null,
   "metadata": {},
   "outputs": [],
   "source": [
    "nbins_x = 13\n",
    "nbins_y = 20\n",
    "cameras = [\"LSTCam\", \"NectarCam\"]\n",
    "LUTs = [None] * len(cameras)\n",
    "\n",
    "for camera_index in range(len(cameras)):\n",
    "    \n",
    "    fig = plt.figure(figsize=(6, 5), tight_layout=False)\n",
    "    plt.xlabel(\"log10(Intensity ['phe'])\")\n",
    "    plt.ylabel(\"Ellipticity [Width [m] / Length [m]]\")\n",
    "    \n",
    "    miss2 = np.nan_to_num(average_miss2[camera_index])\n",
    "    \n",
    "    LUT = plt.pcolormesh(\n",
    "                   xedges[camera_index],\n",
    "                   yedges[camera_index],\n",
    "                   np.transpose(miss2),\n",
    "                   cmap=plt.cm.rainbow,\n",
    "                   norm=LogNorm(),\n",
    "                  )\n",
    "    \n",
    "    plt.colorbar()\n",
    "    \n",
    "    LUTs[camera_index] = LUT\n",
    "    \n",
    "    fig.savefig(f\"./plots_image_cleaning/directionLUTsMiss2_{cameras[camera_index]}_protopipe_{config}.png\")"
   ]
  },
  {
   "cell_type": "code",
   "execution_count": null,
   "metadata": {},
   "outputs": [],
   "source": [
    "fig = plt.figure(figsize=(6, 5), tight_layout=False)\n",
    "plt.xlabel(\"log10(intensity)\")\n",
    "plt.ylabel(\"miss**2 (deg**2)\")\n",
    "\n",
    "for camera_index in range(len(cameras)):\n",
    "    \n",
    "    bincenters = (xedges[camera_index][1:] + xedges[camera_index][:-1])/2\n",
    "    # bin 9 corresponds to ellipticity between 0.45 and 0.5\n",
    "    plt.plot(bincenters, np.nan_to_num(average_miss2[camera_index])[:,9], label=f\"{cameras[camera_index]}\")\n",
    "    \n",
    "\n",
    "plt.legend()\n",
    "    \n",
    "fig.savefig(f\"./plots_image_cleaning/directionLUTsMiss2_slice_{cameras[camera_index]}_protopipe_{config}.png\")\n"
   ]
  },
  {
   "cell_type": "markdown",
   "metadata": {},
   "source": [
    "### Fraction of events (relative to telescope triggers) that survive a given intensity cut"
   ]
  },
  {
   "cell_type": "code",
   "execution_count": null,
   "metadata": {},
   "outputs": [],
   "source": [
    "nbins = 250\n",
    "xrange = [0,6]\n",
    "cameras = [\"LSTCam\", \"NectarCam\"]\n",
    "\n",
    "additional_cuts = {\"n_pixels\" : 3, \"containment_radius\" : 0.8, \"ellipticity\" : [0.1,0.6]}\n",
    "\n",
    "for camera_index in range(len(cameras)):\n",
    "    \n",
    "    fig = plt.figure(figsize=(6, 5), tight_layout=False)\n",
    "    plt.xlabel(\"log10(intensity #p.e)\")\n",
    "    plt.ylabel(\"Fraction of telescope triggers with  log10(intensity #p.e)> x phe\")\n",
    "\n",
    "    tot_entries = len(DL1[camera_index][\"Intensity [#phe]\"]) # all pixel values, not all events in the IACT sense\n",
    "    \n",
    "    for another_cut in additional_cuts: # TODO\n",
    "    \n",
    "        intensity_hist, xbins = np.histogram( np.log10(DL1[camera_index][\"Intensity [#phe]\"]), bins=nbins, range=xrange)\n",
    "        plt.plot(xbins[:-1], intensity_hist[::-1].cumsum()[::-1]/tot_entries, drawstyle=\"steps-post\", label=another_cut)\n",
    "\n",
    "    plt.ylim([0.,1.05])\n",
    "    plt.minorticks_on()\n",
    "    plt.grid()\n",
    "    plt.legend()\n",
    "    \n",
    "    # Print info about threshold cuts (as from tilcut notes of TS and JD)\n",
    "    \n",
    "    # This is the phe cut that saves 99.7% of the images\n",
    "    cut = np.quantile(DL1[camera_index][\"Intensity [#phe]\"], 1-0.997)\n",
    "    images_saved = percentileofscore(DL1[camera_index][\"Intensity [#phe]\"], 0)\n",
    "    plt.vlines(np.log10(cut), ymin=1.e-7, ymax=1, color='red')\n",
    "    \n",
    "    print(f\"{cameras[camera_index]}: cutting at {cut} phe saves 99.7% of the images and saves {images_saved:.1f}% of the images\")\n",
    "\n",
    "    fig.savefig(f\"./plots_image_cleaning/eventsAboveIntensity_{cameras[camera_index]}_protopipe_{config}.png\")"
   ]
  },
  {
   "cell_type": "markdown",
   "metadata": {},
   "source": [
    "### Image-parameter distributions"
   ]
  },
  {
   "cell_type": "markdown",
   "metadata": {},
   "source": [
    "From [here](https://www.overleaf.com/16933164ghbhvjtchknf) : use all telescope events with; this is not a benchmark, but useful for monitoring (best done in energy bins)"
   ]
  },
  {
   "cell_type": "code",
   "execution_count": null,
   "metadata": {},
   "outputs": [],
   "source": [
    "nbins = 100\n",
    "cameras = [\"LSTCam\", \"NectarCam\"]\n",
    "\n",
    "for camera_index in range(len(cameras)):\n",
    "    \n",
    "    to_plot = DL1[camera_index]\n",
    "    \n",
    "    for key in to_plot.keys():\n",
    "\n",
    "        fig = plt.figure(figsize=(6, 5), tight_layout=False)\n",
    "        \n",
    "        plt.ylabel(\"Number of events\")\n",
    "        plt.yscale('log')\n",
    "\n",
    "        if key == \"Intensity [#phe]\":\n",
    "            plt.xlabel(f\"log10({key})\")\n",
    "            plt.hist(np.log10(to_plot[key]), bins=nbins)\n",
    "        else:\n",
    "            plt.xlabel(f\"{key}\")\n",
    "            plt.hist(to_plot[key], bins=nbins)\n",
    "\n",
    "        plt.minorticks_on()\n",
    "        plt.grid()\n",
    "        \n",
    "        add_stats(to_plot[key], plt.gca())\n",
    "\n",
    "        fig.savefig(f\"./plots_image_cleaning/{key.split(' ')[0]}_{cameras[camera_index]}_protopipe_{config}.png\")"
   ]
  }
 ],
 "metadata": {
  "kernelspec": {
   "display_name": "Python 3",
   "language": "python",
   "name": "python3"
  },
  "language_info": {
   "codemirror_mode": {
    "name": "ipython",
    "version": 3
   },
   "file_extension": ".py",
   "mimetype": "text/x-python",
   "name": "python",
   "nbconvert_exporter": "python",
   "pygments_lexer": "ipython3",
   "version": "3.7.6"
  }
 },
 "nbformat": 4,
 "nbformat_minor": 4
}
