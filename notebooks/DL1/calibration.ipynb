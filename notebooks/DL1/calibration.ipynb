{
 "cells": [
  {
   "cell_type": "markdown",
   "metadata": {},
   "source": [
    "# Calibration"
   ]
  },
  {
   "cell_type": "markdown",
   "metadata": {},
   "source": [
    "**Author(s):**\n",
    " - Dr. Michele Peresano (CEA-Saclay/IRFU/DAp/LEPCHE), 2020\n",
    "\n",
    "**Description:**\n",
    "\n",
    "This notebook contains DL1-calibration plots and benchmark proposals for the _protopipe_ pipeline.  \n",
    "This was mainly triggered by the step-by-step comparison against _CTA-MARS_, but it can be extended to other pipelines as well.  \n",
    "**NOTE** Let's try to follow [this](https://www.overleaf.com/16933164ghbhvjtchknf) document by adding those benchmarks or proposing new ones.\n",
    "\n",
    "**Requirements:**\n",
    "\n",
    "To run this notebook you will need an _images.h5_ file which can be generated using _write_dl1.py_ .  \n",
    "Reference simtel-file, plots, values and settings can be found [here (please, always refer to the latest version)](https://forge.in2p3.fr/projects/benchmarks-reference-analysis/wiki/Comparisons_between_pipelines) until we have a more automatic and fancy approach (aka [cta-benchmarks](https://github.com/cta-observatory/cta-benchmarks)+[ctaplot](https://github.com/cta-observatory/ctaplot)).  \n",
    "\n",
    "The data format required to run the notebook is the current one used by _protopipe_ . Later on it will be the same as in _ctapipe_ .  \n",
    "**WARNING:** Mono-telescope images (2 triggers - 1 image or 1 trigger - 1 image) are not currently taken into account by the publicly available development version (the new DL1 script will have them), until then expect a somewhat lower statistics.\n",
    "\n",
    "**Development and testing:**  \n",
    "\n",
    "For the moment this notebook is optimized to work only on files produced from LSTCam + NectarCam telescope configurations.  \n",
    "As with any other part of _protopipe_ and being part of the official repository, this notebook can be further developed by any interested contributor.  \n",
    "The execution of this notebook is not currently automatic, it must be done locally by the user - preferably _before_ pushing a pull-request.\n",
    "\n",
    "**TODO:**  \n",
    "* R1-data level --> pedestal vs pix_id\n",
    "* R1-data level --> dc_to_phe vs pix_id"
   ]
  },
  {
   "cell_type": "markdown",
   "metadata": {},
   "source": [
    "## Imports"
   ]
  },
  {
   "cell_type": "code",
   "execution_count": null,
   "metadata": {},
   "outputs": [],
   "source": [
    "import os\n",
    "from pathlib import Path\n",
    "\n",
    "import numpy as np\n",
    "from scipy.stats import binned_statistic, binned_statistic_2d, cumfreq, percentileofscore\n",
    "import tables\n",
    "\n",
    "%matplotlib inline\n",
    "import matplotlib.pyplot as plt\n",
    "import matplotlib.colors as colors\n",
    "from matplotlib.colors import LogNorm\n",
    "import matplotlib.ticker as ticker"
   ]
  },
  {
   "cell_type": "markdown",
   "metadata": {},
   "source": [
    "## Functions"
   ]
  },
  {
   "cell_type": "markdown",
   "metadata": {},
   "source": [
    "### Spectral weight from requirement B-TEL-1010 \"Intensity Resolution\" "
   ]
  },
  {
   "cell_type": "code",
   "execution_count": null,
   "metadata": {},
   "outputs": [],
   "source": [
    "def apply_weight_BTEL1010(tel_data):\n",
    "    \"\"\"Apply the weight in requirement B-TEL-1010-Intensity Resolution to the reconstructed images.\"\"\"\n",
    "    target_slope = -2.62 # this is the spectral slope as required by the B-TEL-1010 \"Intensity Resolution\" doc\n",
    "    spec_slope = -2.0 # this is the spectral slope in the simtel files\n",
    "    cameras = [\"LSTCam\", \"NectarCam\"]\n",
    "    for camera_index in range(len(cameras)):\n",
    "        energies = tel_data.col(\"mc_energy\")*1.e3 # GeV\n",
    "        # each image array needs the same weight\n",
    "        weights = np.repeat(np.power(energies/200., target_slope - spec_slope), 1855)\n",
    "    return weights.ravel()"
   ]
  },
  {
   "cell_type": "markdown",
   "metadata": {},
   "source": [
    "## Load the base data file or reset it if overwritten"
   ]
  },
  {
   "cell_type": "code",
   "execution_count": null,
   "metadata": {},
   "outputs": [],
   "source": [
    "def load_reset_images(indir = \"./\", fileName = \"images.h5\", config=\"test\"):\n",
    "    \"\"\"(Re)load the file containing the images and extract the data per telescope type.\"\"\"\n",
    "    # load DL1 images\n",
    "    data = tables.open_file(f\"{indir}/{fileName}\")\n",
    "    data_LST = data.get_node(\"/images_LSTCam\")\n",
    "    data_MST = data.get_node(\"/images_NectarCam\")\n",
    "    suffix = config # all generated plots will have this as a suffix in their name\n",
    "    return data_LST, data_MST, suffix"
   ]
  },
  {
   "cell_type": "markdown",
   "metadata": {},
   "source": [
    "## Prepare data"
   ]
  },
  {
   "cell_type": "markdown",
   "metadata": {},
   "source": [
    "First we check if a _plots_ folder exists already.  \n",
    "If not, we create it."
   ]
  },
  {
   "cell_type": "code",
   "execution_count": null,
   "metadata": {},
   "outputs": [],
   "source": [
    "Path(\"./plots_calibration\").mkdir(parents=True, exist_ok=True)"
   ]
  },
  {
   "cell_type": "markdown",
   "metadata": {},
   "source": [
    "### Load"
   ]
  },
  {
   "cell_type": "code",
   "execution_count": null,
   "metadata": {},
   "outputs": [],
   "source": [
    "data_LST, data_MST, config = load_reset_images()"
   ]
  },
  {
   "cell_type": "markdown",
   "metadata": {},
   "source": [
    "### Setup"
   ]
  },
  {
   "cell_type": "code",
   "execution_count": null,
   "metadata": {},
   "outputs": [],
   "source": [
    "# LSTCam\n",
    "mc_lst = data_LST.col(\"mc_phe_image\").ravel()\n",
    "dl1_lst = data_LST.col(\"dl1_phe_image\").ravel()\n",
    "weights_lst = apply_weight_BTEL1010(data_LST)\n",
    "# NectarCam\n",
    "mc_mst = data_MST.col(\"mc_phe_image\").ravel()\n",
    "dl1_mst = data_MST.col(\"dl1_phe_image\").ravel()\n",
    "weights_mst = apply_weight_BTEL1010(data_MST)\n",
    "# Group\n",
    "mc_all = [mc_lst, mc_mst]\n",
    "reco_all = [dl1_lst, dl1_mst]\n",
    "weights_all = [weights_lst, weights_mst]"
   ]
  },
  {
   "cell_type": "code",
   "execution_count": null,
   "metadata": {},
   "outputs": [],
   "source": [
    "# filter positive number of photoelectrons (for log-log plots)\n",
    "good_values_mst = np.where((mc_mst>0) & (dl1_mst>0))\n",
    "good_values_lst = np.where((mc_lst>0) & (dl1_lst>0))\n",
    "# combine cameras\n",
    "mc = [mc_lst[good_values_lst], mc_mst[good_values_mst]]\n",
    "reco = [dl1_lst[good_values_lst], dl1_mst[good_values_mst]]\n",
    "# filter also weights\n",
    "weights = [weights_lst[good_values_lst], weights_mst[good_values_mst]]"
   ]
  },
  {
   "cell_type": "code",
   "execution_count": null,
   "metadata": {},
   "outputs": [],
   "source": [
    "print(f\"Total number of pixel-wise values read from simtel file without cuts\")\n",
    "print(f\"LSTCam = {len(mc_all[0])}\")\n",
    "print(f\"NectarCam = {len(mc_all[1])}\")\n",
    "print(f\"After removing for 'noise' pixels the number of pixel-wise values reduces to\")\n",
    "print(f\"LSTCam = {len(mc[0])}\")\n",
    "print(f\"NectarCam = {len(mc[1])}\")\n",
    "print(f\"'pixel-wise values' means #pixels * #cameras * #events\")\n",
    "print(f\"In this phase all single-telescope images are considered.\")"
   ]
  },
  {
   "cell_type": "markdown",
   "metadata": {},
   "source": [
    "## Comparison plots"
   ]
  },
  {
   "cell_type": "markdown",
   "metadata": {},
   "source": [
    "### Calibration"
   ]
  },
  {
   "cell_type": "markdown",
   "metadata": {},
   "source": [
    "#### Correlation between the reconstructed and true number of photoelectrons"
   ]
  },
  {
   "cell_type": "code",
   "execution_count": null,
   "metadata": {},
   "outputs": [],
   "source": [
    "nbins_x = 160\n",
    "nbins_y = 320\n",
    "cameras = [\"LSTCam\", \"NectarCam\"]\n",
    "\n",
    "for camera_index in range(len(cameras)):\n",
    "    fig = plt.figure(figsize=(6, 5), tight_layout=False)\n",
    "    plt.xlabel(\"log10(true #p.e)\")\n",
    "    plt.ylabel(\"log10(reco #p.e)\")\n",
    "    \n",
    "    # This is just to count the real number of events given to the histogram\n",
    "    # The subsequent histogram has the weights applied, so the number of events there is biased by this\n",
    "    h_no_weights = plt.hist2d(np.log10(mc[camera_index]), np.log10(reco[camera_index]),\n",
    "                   bins=[nbins_x, nbins_y],\n",
    "                   range=[[0,4.2],[-4,4]],\n",
    "                   norm=LogNorm(),\n",
    "                  )\n",
    "    h = plt.hist2d(np.log10(mc[camera_index]), np.log10(reco[camera_index]),\n",
    "                   bins=[nbins_x, nbins_y],\n",
    "                   range=[[0,4.2],[-4,4]],\n",
    "                   norm=LogNorm(),\n",
    "                   cmap=plt.cm.rainbow,\n",
    "                   weights=weights[camera_index],\n",
    "                  )\n",
    "    \n",
    "    plt.plot([0, 4], [0, 4], color=\"black\") # line showing perfect correlation\n",
    "    plt.minorticks_on()\n",
    "    plt.xticks(ticks=np.arange(-1, 5, 0.5), labels=[\"\",\"\"]+[str(i) for i in np.arange(0, 5, 0.5)])\n",
    "    plt.xlim(-0.2,4.2)\n",
    "    plt.colorbar(h[3], \n",
    "                 ax=plt.gca(), \n",
    "#                  format=ticker.FuncFormatter(fmt)\n",
    "                )\n",
    "    plt.grid()\n",
    "    \n",
    "    fig.savefig(f\"./plots_calibration/recoPhesVsTruePhes_{cameras[camera_index]}_protopipe_{config}.png\")\n",
    "    \n",
    "    # Print some debug/benchmarking information\n",
    "    print(f\"Total number of events in the plot of {cameras[camera_index]} (before re-weighting) = {h_no_weights[0].sum()}\")"
   ]
  },
  {
   "cell_type": "markdown",
   "metadata": {},
   "source": [
    "#### Charge resolution"
   ]
  },
  {
   "cell_type": "code",
   "execution_count": null,
   "metadata": {},
   "outputs": [],
   "source": [
    "# First restore reconstructed negative values, since now we make ratios instead of logarithms\n",
    "# filter only positive number of true photoelectrons\n",
    "good_values_lst = np.where(mc_all[0]>0)\n",
    "good_values_mst = np.where(mc_all[1]>0)\n",
    "# combine cameras\n",
    "mc = [mc_all[0][good_values_lst], mc_all[1][good_values_mst]]\n",
    "reco = [reco_all[0][good_values_lst], reco_all[1][good_values_mst]]\n",
    "weights = [weights_all[0][good_values_lst], weights_all[1][good_values_mst]]"
   ]
  },
  {
   "cell_type": "code",
   "execution_count": null,
   "metadata": {},
   "outputs": [],
   "source": [
    "nbins_x = 160\n",
    "nbins_y = 320\n",
    "cameras = [\"LSTCam\", \"NectarCam\"]\n",
    "\n",
    "for camera_index in range(len(cameras)):\n",
    "    \n",
    "    fig = plt.figure(figsize=(6, 5), tight_layout=False)\n",
    "    \n",
    "    plt.xlabel(\"log10(true #p.e)\")\n",
    "    plt.ylabel(\"reconstructed #p.e / true #p.e\")\n",
    "    h = plt.hist2d(np.log10(mc[camera_index]), (reco[camera_index]/mc[camera_index]),\n",
    "                   bins=[nbins_x, nbins_y],\n",
    "                   range=[[-0.2,4.2],[-2,6]],\n",
    "                   norm=LogNorm(),\n",
    "                   cmap=plt.cm.rainbow,\n",
    "                   weights=weights[camera_index],\n",
    "                  )\n",
    "    plt.plot([0, 4], [1, 1], color=\"black\") # line showing perfect correlation\n",
    "    plt.colorbar(h[3], ax=plt.gca()\n",
    "                 #, format=ticker.FuncFormatter(fmt)\n",
    "                )\n",
    "    plt.grid()\n",
    "\n",
    "    fig.savefig(f\"./plots_calibration/chargeResolution_{cameras[camera_index]}_protopipe_{config}.png\")"
   ]
  },
  {
   "cell_type": "markdown",
   "metadata": {},
   "source": [
    "#### Calculate average bias correction"
   ]
  },
  {
   "cell_type": "code",
   "execution_count": null,
   "metadata": {},
   "outputs": [],
   "source": [
    "# calculate average bias between 50 and 500 phes to be safely away from saturation and from NSB noise\n",
    "# select true phe between 50 and 500 phe\n",
    "good_values_lst = np.where((mc_all[0]>=50) & (mc_all[0]<=500))\n",
    "good_values_mst = np.where((mc_all[1]>=50) & (mc_all[1]<=500))\n",
    "# consider only the pixels which comply with this condition in both the true and reconstructed samples\n",
    "mc_lst = mc_all[0][good_values_lst]\n",
    "mc_mst = mc_all[1][good_values_mst]\n",
    "reco_lst = reco_all[0][good_values_lst]\n",
    "reco_mst = reco_all[1][good_values_mst]\n",
    "# define bias as the difference between reco and true\n",
    "bias_lst = reco_lst - mc_lst\n",
    "bias_mst = reco_mst - mc_mst\n",
    "# take the average\n",
    "mean_bias_lst = np.mean(bias_lst)\n",
    "mean_bias_mst = np.mean(bias_mst)\n",
    "# since in average (reco - true) = mean_bias, in order to correct (always in average)\n",
    "# the relation reco/true so to get 1, we need to multiply it by [1-(mean_bias/reco)]\n",
    "intensity_correction_factor_lst = 1 - mean_bias_lst/reco_lst\n",
    "# which averages to\n",
    "print(\"Intensity correction factor for LSTCam: \", np.mean(intensity_correction_factor_lst))\n",
    "# same for MST\n",
    "intensity_correction_factor_mst = 1 - mean_bias_mst/reco_mst\n",
    "print(\"Intensity correction factor for NectarCam: \", np.mean(intensity_correction_factor_mst))\n",
    "# Finally we store these results\n",
    "corr = [np.mean(intensity_correction_factor_lst),\n",
    "        np.mean(intensity_correction_factor_mst)]"
   ]
  },
  {
   "cell_type": "markdown",
   "metadata": {},
   "source": [
    "#### Charge resolution (after bias correction)"
   ]
  },
  {
   "cell_type": "code",
   "execution_count": null,
   "metadata": {},
   "outputs": [],
   "source": [
    "nbins_x = 160\n",
    "nbins_y = 320\n",
    "cameras = [\"LSTCam\", \"NectarCam\"]\n",
    "\n",
    "for camera_index in range(len(cameras)):\n",
    "    \n",
    "    fig = plt.figure(figsize=(6, 5), tight_layout=False)\n",
    "\n",
    "    plt.xlabel(\"log10(true #p.e)\")\n",
    "    plt.ylabel(\"{:.2f}*(reconstructed #p.e / true #p.e)\".format(corr[camera_index]))\n",
    "    h = plt.hist2d(np.log10(mc[camera_index]), corr[camera_index]*(reco[camera_index]/mc[camera_index]),\n",
    "                   bins=[nbins_x, nbins_y],\n",
    "                   range=[[-0.2,4.2],[-2,6]],\n",
    "                   norm=LogNorm(),\n",
    "                   cmap=plt.cm.rainbow,\n",
    "                   weights=weights[camera_index],\n",
    "                  )\n",
    "    plt.plot([0, 4], [1, 1], color=\"black\") # line showing perfect correlation\n",
    "    plt.colorbar(h[3], ax=plt.gca(),\n",
    "#                  format=ticker.FuncFormatter(fmt)\n",
    "                )\n",
    "    plt.grid()\n",
    "\n",
    "    fig.savefig(f\"./plots_calibration/correctedChargeResolution_{cameras[camera_index]}_protopipe_{config}.png\")"
   ]
  },
  {
   "cell_type": "markdown",
   "metadata": {},
   "source": [
    "#### RMS of intensity resolution"
   ]
  },
  {
   "cell_type": "code",
   "execution_count": null,
   "metadata": {},
   "outputs": [],
   "source": [
    "# Filter out again negative reconstructed values, since we will take the logarithm\n",
    "\n",
    "# filter positive number of photoelectrons\n",
    "good_values_lst = np.where((mc_all[0]>0) & (reco_all[0]>0))\n",
    "good_values_mst = np.where((mc_all[1]>0) & (reco_all[1]>0))\n",
    "# combine cameras\n",
    "mc = [mc_all[0][good_values_lst], mc_all[1][good_values_mst]]\n",
    "reco = [reco_all[0][good_values_lst], reco_all[1][good_values_mst]]"
   ]
  },
  {
   "cell_type": "code",
   "execution_count": null,
   "metadata": {},
   "outputs": [],
   "source": [
    "nbins = 100\n",
    "cameras = [\"LSTCam\", \"NectarCam\"]\n",
    "\n",
    "for camera_index in range(len(cameras)):\n",
    "    \n",
    "    fig = plt.figure(figsize=(6, 5), tight_layout=False)\n",
    "\n",
    "    plt.xlabel(\"log10(true #p.e)\")\n",
    "    plt.ylabel(\"RMS of reco #p.e / true #p.e around true#p.e\")\n",
    "\n",
    "    t = mc[camera_index]\n",
    "    r = reco[camera_index]\n",
    "    icf = corr[camera_index]\n",
    "\n",
    "    rms = binned_statistic(x=np.log10(t), values=icf*(r/t), statistic='std', bins=nbins, range=[0.,3.2])\n",
    "    count = binned_statistic(x=np.log10(t), values=icf*(r/t), statistic='count', bins=nbins, range=[0.,3.2])\n",
    "\n",
    "    bincenters = (rms.bin_edges[1:] + rms.bin_edges[:-1])/2\n",
    "    mask = rms.statistic > 0\n",
    "\n",
    "    plt.errorbar(\n",
    "        bincenters[mask],\n",
    "        rms.statistic[mask],\n",
    "        yerr=rms.statistic[mask] / np.sqrt(count.statistic[mask]),\n",
    "        fmt=\".\",\n",
    "        lw=1,\n",
    "    )\n",
    "\n",
    "    plt.yscale(\"log\")\n",
    "    plt.minorticks_on()\n",
    "    plt.xlim(-0.2,4.2)\n",
    "    plt.ylim(2.e-2,6.)\n",
    "    plt.grid(which='major', axis='x')\n",
    "    plt.grid(which='minor', axis='y')\n",
    "    \n",
    "    fig.savefig(f\"./plots_calibration/rms_{cameras[camera_index]}_protopipe_{config}.png\")"
   ]
  },
  {
   "cell_type": "markdown",
   "metadata": {},
   "source": [
    "#### Single-pixel spectrum"
   ]
  },
  {
   "cell_type": "code",
   "execution_count": null,
   "metadata": {},
   "outputs": [],
   "source": [
    "nbins = 250\n",
    "xrange = [-1,4]\n",
    "cameras = [\"LSTCam\", \"NectarCam\"]\n",
    "\n",
    "for camera_index in range(len(cameras)):\n",
    "    \n",
    "    fig = plt.figure(figsize=(6, 5), tight_layout=False)\n",
    "    plt.xlabel(\"log10(reconstructed #p.e)\")\n",
    "    plt.ylabel(\"Number of pixels with > x phe\")\n",
    "\n",
    "    # now we use again all the original events\n",
    "    t = mc_all[camera_index]\n",
    "    r = reco_all[camera_index]\n",
    "\n",
    "    signal = r[np.where(t>0)]\n",
    "    noise = r[np.where(t==0)]\n",
    "\n",
    "    tot_entries = len(t) # events * camera * pixels\n",
    "\n",
    "    noise_hist, xbins = np.histogram( np.log10(noise), bins=nbins, range=xrange)\n",
    "    plt.semilogy(xbins[:-1], noise_hist[::-1].cumsum()[::-1]/tot_entries, drawstyle=\"steps-post\", label=\"Noise Pixels\")\n",
    "\n",
    "    signal_hist, xbins = np.histogram( np.log10(signal), bins=nbins, range=xrange)\n",
    "    plt.semilogy(xbins[:-1], signal_hist[::-1].cumsum()[::-1]/tot_entries, drawstyle=\"steps-post\", label=\"Signal Pixels\")\n",
    "\n",
    "    hist, xbins = np.histogram( np.log10(r), bins=nbins, range=xrange)\n",
    "    plt.semilogy(xbins[:-1], hist[::-1].cumsum()[::-1]/tot_entries, drawstyle=\"steps-post\",alpha=0.7, label=\"All Pixels\")\n",
    "\n",
    "    plt.xlim(xrange)\n",
    "    plt.minorticks_on()\n",
    "    plt.grid()\n",
    "    plt.legend()\n",
    "    \n",
    "    # Print info about threshold cuts (as from tilcut notes of TS and JD)\n",
    "    \n",
    "    # This is the phe cut that rejects 99.7% of the noise\n",
    "    cut = np.quantile(noise, 0.997)\n",
    "    signal_saved = percentileofscore(signal, cut)\n",
    "    plt.vlines(np.log10(cut), ymin=1.e-7, ymax=1, color='red')\n",
    "    \n",
    "    print(f\"{cameras[camera_index]}: cutting at {cut} rejects 99.7% of the noise and saves {signal_saved:.1f}% of the signal\")\n",
    "\n",
    "    fig.savefig(f\"./plots_calibration/singlePixelSpectrum_{cameras[camera_index]}_protopipe_{config}.png\")"
   ]
  }
 ],
 "metadata": {
  "kernelspec": {
   "display_name": "Python 3",
   "language": "python",
   "name": "python3"
  },
  "language_info": {
   "codemirror_mode": {
    "name": "ipython",
    "version": 3
   },
   "file_extension": ".py",
   "mimetype": "text/x-python",
   "name": "python",
   "nbconvert_exporter": "python",
   "pygments_lexer": "ipython3",
   "version": "3.7.4"
  }
 },
 "nbformat": 4,
 "nbformat_minor": 4
}
