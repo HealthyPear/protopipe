{
 "cells": [
  {
   "cell_type": "code",
   "execution_count": null,
   "metadata": {},
   "outputs": [],
   "source": [
    "# Remove input cells at runtime (nbsphinx)\n",
    "import IPython.core.display as d\n",
    "d.display_html('<script>jQuery(function() {if (jQuery(\"body.notebook_app\").length == 0) { jQuery(\".input_area\").toggle(); jQuery(\".prompt\").toggle();}});</script>', raw=True)"
   ]
  },
  {
   "cell_type": "markdown",
   "metadata": {},
   "source": [
    "# Calibration"
   ]
  },
  {
   "cell_type": "markdown",
   "metadata": {},
   "source": [
    "**Author(s):**\n",
    " - Dr. Michele Peresano (CEA-Saclay/IRFU/DAp/LEPCHE), 2020\n",
    "\n",
    "**Description:**\n",
    "\n",
    "This notebook contains plots and benchmarks at calibration level (i.e. from _simtel_ to _DL0_).   \n",
    "\n",
    "It currently follows the step-by-step comparison against _CTA-MARS_ , but:\n",
    "\n",
    "- it can be extended to other pipelines,\n",
    "- it can be applied to all cameras from Prod3b.\n",
    "\n",
    "The documentation shows only input data and actual results for immediate display.  \n",
    "You can find the details by opening the notebook from the _benchmarks_ folder in _protopipe_.  \n",
    "\n",
    "**NOTE** [This](https://www.overleaf.com/16933164ghbhvjtchknf) document is supposed to be the official one regarding benchmarks, so we can use this notebook to add and/or propose modifications.\n",
    "\n",
    "**Requirements:**\n",
    "\n",
    "Due to recent code migration from _protopipe_ to _ctapipe_, to run this notebook you will need one or more HDF5 files produced with *ctapipe-stage1-process* (depending on the image extractor of your choice - if it doesn't require a 2nd pass, you'll have to comment-out those lines!).\n",
    "\n",
    "You will find the relevant configuration files together with this notebook.\n",
    "\n",
    "<ins>Comparison between protopipe and CTA-MARS</ins>\n",
    "- simtel file to be used _gamma_20deg_180deg_run100___cta-prod3-demo-2147m-LaPalma-baseline.simtel.gz_  \n",
    "- protopipe_CTAMARS_1stPass_calibration.json\n",
    "- protopipe_CTAMARS_2ndPass_calibration.json\n",
    "- reference production [here](https://forge.in2p3.fr/projects/step-by-step-reference-mars-analysis/wiki#The-MC-sample).\n",
    "\n",
    "**Development and testing:**  \n",
    "\n",
    "All Prod3b cameras will be read by the notebook, but some of them are not optimized yet in _ctapipe_ (e.g. FlashCam).  \n",
    "The execution of this notebook is not currently automatic, it must be done locally by the user - preferably _before_ pushing a pull-request, in order to check that the performance didn't decrease.\n",
    "\n",
    "**IMPORTANT:** Please, if you wish to contribute to this notebook, before pushing anything to your branch (better even before opening the PR) clear all the output and remove any local directory paths that you used for testing (leave empty strings). \n",
    "\n",
    "**TODO:**\n",
    "\n",
    "* calibScale is applied only here, not in ctapipe\n",
    "* ...\n"
   ]
  },
  {
   "cell_type": "markdown",
   "metadata": {},
   "source": [
    "## Table of contents\n",
    "\n",
    "* [Input data](#Input-data)\n",
    "    - [Requirements](#Requirements)\n",
    "        + [B-TEL-1010 \"Intensity Resolution\"](#B-TEL-1010-\"Intensity-Resolution\")\n",
    "    - [MonteCarlo data](#MonteCarlo-data)\n",
    "    - [Protopipe](#Protopipe)\n",
    "    - [CTA-MARS](#CTA-MARS)\n",
    "* [Plots and benchmarks](#Plots-and-benchmarks)\n",
    "    - [R1-level information](#R1-level-information)\n",
    "        + [Pedestals](#Pedestals)\n",
    "        + [DC to PHE](#DC-to-PHE)\n",
    "    - [Correlation between the reconstructed and true number of photoelectrons](#Correlation-between-the-reconstructed-and-true-number-of-photoelectrons)\n",
    "    - [Charge resolution](#Charge-resolution)\n",
    "    - [Calculation of the residual average bias](#Calculation-of-the-residual-average-bias)\n",
    "    - [Charge resolution corrected for residual average bias](#Charge-resolution-corrected-for-residual-average-bias)\n",
    "    - [RMS of charge resolution (around 1)](#RMS-of-charge-resolution-(around-1))\n",
    "    - [Single-pixel spectra](#Single-pixel-spectra)\n",
    "    - [Optimized cleaning thesholds](#Optimized-cleaning-thesholds)\n",
    "        + [Method 1: 99.7% of \"noise\" rejection (obsolete)](#Method-1:-99.7%-of-\"noise\"-rejection)\n",
    "        + [Method 2: fix relative frequency of charge (current standard)](#Method-2:-fix-relative-frequency-of-charge)"
   ]
  },
  {
   "cell_type": "markdown",
   "metadata": {
    "nbsphinx": "hidden"
   },
   "source": [
    "## Imports\n",
    "[back to top](#Table-of-contents)"
   ]
  },
  {
   "cell_type": "code",
   "execution_count": null,
   "metadata": {},
   "outputs": [],
   "source": [
    "import os\n",
    "from pathlib import Path\n",
    "\n",
    "import numpy as np\n",
    "from scipy.stats import percentileofscore\n",
    "import tables\n",
    "import uproot\n",
    "from astropy.io import ascii\n",
    "from astropy.table import Table, join\n",
    "\n",
    "%matplotlib inline\n",
    "import matplotlib.pyplot as plt\n",
    "from matplotlib.colors import LogNorm\n",
    "\n",
    "from ctapipe.io import event_source\n",
    "from ctapipe.io.astropy_helpers import h5_table_to_astropy as read_table\n",
    "from ctapipe.instrument import CameraGeometry"
   ]
  },
  {
   "cell_type": "markdown",
   "metadata": {
    "nbsphinx": "hidden"
   },
   "source": [
    "## Functions\n",
    "[back to top](#Table-of-contents)"
   ]
  },
  {
   "cell_type": "markdown",
   "metadata": {
    "nbsphinx": "hidden"
   },
   "source": [
    "### Add statistical information to a plot \n",
    "[back to top](#Table-of-contents)"
   ]
  },
  {
   "cell_type": "code",
   "execution_count": null,
   "metadata": {
    "nbsphinx": "hidden"
   },
   "outputs": [],
   "source": [
    "def add_stats(data, ax, x = 0.70, y = 0.85, color = \"black\"):\n",
    "    \"\"\"Add a textbox containing statistical information.\"\"\"\n",
    "    mu = data.mean()\n",
    "    median = np.median(data)\n",
    "    sigma = data.std()\n",
    "    textstr = '\\n'.join((\n",
    "        r'$\\mu=%.4f$' % (mu, ),\n",
    "        r'$\\mathrm{median}=%.4f$' % (median, ),\n",
    "        r'$\\sigma=%.4f$' % (sigma, )))\n",
    "\n",
    "    # these are matplotlib.patch.Patch properties\n",
    "    props = dict(boxstyle='round', facecolor='wheat', alpha=0.5)\n",
    "\n",
    "    # place a text box in upper left in axes coords\n",
    "    ax.text(x, y, \n",
    "            textstr, \n",
    "            transform=ax.transAxes, \n",
    "            fontsize=10,\n",
    "            horizontalalignment='left',\n",
    "            verticalalignment='center', \n",
    "            bbox=props,\n",
    "            color=color)"
   ]
  },
  {
   "cell_type": "markdown",
   "metadata": {
    "nbsphinx": "hidden"
   },
   "source": [
    "### Spectral weight from requirement B-TEL-1010 \"Intensity Resolution\"\n",
    "[back to top](#0.-Table-of-contents)"
   ]
  },
  {
   "cell_type": "code",
   "execution_count": null,
   "metadata": {},
   "outputs": [],
   "source": [
    "def apply_weight_BTEL1010(data):\n",
    "    \"\"\"Define the weights from requirement B-TEL-1010-Intensity Resolution.\"\"\"\n",
    "    target_slope = -2.62 # this is the spectral slope as required by the B-TEL-1010 \"Intensity Resolution\" doc\n",
    "    spec_slope = -2.0 # this is the spectral slope in the simtel files\n",
    "    energies = data[\"true_energy\"]*1.e3 # GeV\n",
    "    # each pixel of the same image (row of data table) needs the same weight\n",
    "    n_pixels = data[\"true_image\"].shape[1]\n",
    "    weights = np.repeat(np.power(energies/200., target_slope - spec_slope), n_pixels)\n",
    "    return weights.ravel()"
   ]
  },
  {
   "cell_type": "markdown",
   "metadata": {
    "nbsphinx": "hidden"
   },
   "source": [
    "### Calculation of the residual bias\n",
    "[back to top](#Table-of-contents)"
   ]
  },
  {
   "cell_type": "code",
   "execution_count": null,
   "metadata": {},
   "outputs": [],
   "source": [
    "def calc_bias(x_bin_edges, y_bin_edges, hist):\n",
    "    \"\"\"Calculate the average bias of charge resolution from 50 to 500 true photoeletrons.\n",
    "    These limits are chosen in order to be safely away from saturation and from NSB noise.\n",
    "    \n",
    "    Parameters\n",
    "    ----------\n",
    "    x_bin_edges : 1D array\n",
    "        Bin edges in true photoelectrons.\n",
    "    y_bin_edges : 1D array\n",
    "        Bin edges in reconstructed/true photoelectrons.\n",
    "    hist : 2D array\n",
    "        The full histogram of reconstructed/true against true photoelectrons.\n",
    "        \n",
    "    Returns\n",
    "    -------\n",
    "    bias : float\n",
    "        Average bias of charge resolution from 50 to 500 true photoelectrons.\n",
    "    \n",
    "    \"\"\"\n",
    "    min_edge_index = np.digitize(1.7, x_bin_edges) - 1\n",
    "    max_edge_index = np.digitize(2.7, x_bin_edges)\n",
    "\n",
    "    proj = np.zeros(600)\n",
    "    for i in range(min_edge_index, max_edge_index + 1):\n",
    "        proj = proj + hist[i]\n",
    "\n",
    "    y_bin_centers = 0.5*(y_bin_edges[1:] + y_bin_edges[:-1])\n",
    "\n",
    "    bias = 1./np.average(y_bin_centers, weights = proj)\n",
    "    \n",
    "    return bias"
   ]
  },
  {
   "cell_type": "markdown",
   "metadata": {
    "nbsphinx": "hidden"
   },
   "source": [
    "### Root Mean Square around 1\n",
    "[back to top](#Table-of-contents)"
   ]
  },
  {
   "cell_type": "code",
   "execution_count": null,
   "metadata": {},
   "outputs": [],
   "source": [
    "def calc_rms(values, weights):\n",
    "    \"\"\"Root Mean Square around 1 as proposed from comparison with CTA-MARS.\n",
    "    \n",
    "    The input values are vertical slices of the 2D histogram showing the bias-corrected charge resolution.\n",
    "        \n",
    "    Parameters\n",
    "    ----------\n",
    "    values : 1D array\n",
    "        Values in reconstructed / true photoelectrons corrected for average bias.\n",
    "    weights : 1D array\n",
    "        Counts in a cell from the weigthed histogram.\n",
    "    \n",
    "    Returns\n",
    "    -------\n",
    "    rms : float\n",
    "        Root Mean Square of around 1 for a vertical slice.\n",
    "    \n",
    "    \"\"\"\n",
    "    average = np.average(values, weights=weights)\n",
    "    variance = np.average((values-average)**2, weights=weights)\n",
    "    standard_deviation = np.sqrt(variance)\n",
    "    a = np.power(standard_deviation,2)\n",
    "    b = np.power(average-1,2)\n",
    "    rms = np.sqrt(a+b)\n",
    "    return rms\n",
    "\n",
    "# missing errors (err_rms)"
   ]
  },
  {
   "cell_type": "markdown",
   "metadata": {
    "nbsphinx": "hidden"
   },
   "source": [
    "### Load data files or reset them if overwritten\n",
    "[back to top](#Table-of-contents)"
   ]
  },
  {
   "cell_type": "code",
   "execution_count": null,
   "metadata": {},
   "outputs": [],
   "source": [
    "def load_reset_images(indir = \"./\", fileName = \"images.h5\", tel = \"LST_LST_LSTCam\"):\n",
    "    \"\"\"(Re)load the file containing the images and extract the data per telescope type.\n",
    "    \n",
    "    Parameters\n",
    "    ----------\n",
    "    \n",
    "    indir : pathlib.Path\n",
    "        Path of the folder containing the HDF5 file to be used.\n",
    "    fileName : pathlib.Path\n",
    "        Name the HDF5 file to be used.\n",
    "    tel : str\n",
    "        Complete identifier of the telescope+camera system to use.\n",
    "    \n",
    "    Returns\n",
    "    -------\n",
    "    \n",
    "    true_images :\n",
    "        Table containing basic information about the true images.\n",
    "    reco_images :\n",
    "        Table containing basic information about the reconstructed images.\n",
    "    \n",
    "    \"\"\"\n",
    "    \n",
    "    filepath = Path(indir) / fileName\n",
    "    \n",
    "    with tables.open_file(filepath) as infile:\n",
    "        true_images = read_table(infile, f\"/simulation/event/telescope/images/{tel}\")\n",
    "        reco_images = read_table(infile, f\"/dl1/event/telescope/images/{tel}\")\n",
    "\n",
    "    return true_images, reco_images\n",
    "\n",
    "def load_reset_showers(indir = \"./\", fileName = \"images.h5\"):\n",
    "    \"\"\"(Re)load information regarding the simulated showers from the HDF5 file.\n",
    "    \n",
    "    Parameters\n",
    "    ----------\n",
    "    \n",
    "    indir : str\n",
    "        Path of the folder containing the HDF5 file to be used.\n",
    "    fileName : str\n",
    "        Name the HDF5 file to be used.\n",
    "    \n",
    "    Returns\n",
    "    -------\n",
    "    \n",
    "    showers :\n",
    "        Table containing basic information about the showers.\n",
    "    \n",
    "    \"\"\"\n",
    "    \n",
    "    filepath = Path(indir) / fileName\n",
    "    with tables.open_file(filepath) as infile:\n",
    "        showers = read_table(infile, \"/simulation/event/subarray/shower\")\n",
    "    \n",
    "    return showers"
   ]
  },
  {
   "cell_type": "markdown",
   "metadata": {},
   "source": [
    "## Input data\n",
    "[back to top](#Table-of-contents)"
   ]
  },
  {
   "cell_type": "code",
   "execution_count": null,
   "metadata": {},
   "outputs": [],
   "source": [
    "# First we check if a _plots_ folder exists already.  \n",
    "# If not, we create it.\n",
    "Path(\"./plots_calibration\").mkdir(parents=True, exist_ok=True)"
   ]
  },
  {
   "cell_type": "markdown",
   "metadata": {},
   "source": [
    "All plots are stored in `./plots_calibration` with a suffix defined by the analysis name."
   ]
  },
  {
   "cell_type": "markdown",
   "metadata": {},
   "source": [
    "### Requirements\n",
    "[back to top](#Table-of-contents)"
   ]
  },
  {
   "cell_type": "markdown",
   "metadata": {},
   "source": [
    "#### B-TEL-1010 \"Intensity Resolution\"\n",
    "[back to top](#Table-of-contents)"
   ]
  },
  {
   "cell_type": "markdown",
   "metadata": {},
   "source": [
    "**Note:** converted in photolectrons, this requirement takes into account Poissonian fluctuations, which in turn are not taken into account in this version of the benchmarks."
   ]
  },
  {
   "cell_type": "code",
   "execution_count": null,
   "metadata": {},
   "outputs": [],
   "source": [
    "photons = np.array([4.08996, 4.27598 , 4.47047 , 4.67381 , 4.88639 , 5.10864 , 5.341   , 5.58393 , 5.83791 , 6.10344 , 6.38105 , 6.67128 , 6.97472 , 7.29196 , 7.62362 , 7.97038 , 8.3329  , 8.71191 , 9.10816 , 9.52244 , 9.95555 , 10.4084 , 10.8818 , 11.3767 , 11.8942 , 12.4352 , 13.0008 , 13.5921 , 14.2103 , 14.8567 , 15.5324 , 16.2389 , 16.9775 , 17.7497 , 18.557  , 19.4011 , 20.2835 , 21.2061 , 22.1706 , 23.179  , 24.2333 , 25.3355 , 26.4879 , 27.6926 , 28.9522 , 30.2691 , 31.6458 , 33.0852 , 34.59   , 36.1633 , 37.8082 , 39.5278 , 41.3257 , 43.2054 , 45.1705 , 47.225  , 49.373  , 51.6187 , 53.9665 , 56.4211 , 58.9874 , 61.6704 , 64.4754 , 67.4079 , 70.4739 , 73.6793 , 77.0306 , 80.5342 , 84.1972 , 88.0268 , 92.0306 , 96.2166 , 100.593 , 105.168 , 109.952 , 114.953 , 120.181 , 125.648 , 131.362 , 137.337 , 143.584 , 150.115 , 156.943 , 164.081 , 171.544 , 179.346 , 187.504 , 196.032 , 204.948 , 214.27  , 224.016 , 234.205 , 244.858 , 255.995 , 267.639 , 279.812 , 292.539 , 305.844 , 319.755 , 334.299 , 349.504 , 365.401 , 382.021 , 399.397 , 417.563 , 436.555 , 456.412 , 477.171 , 498.875 , 521.565 , 545.288 , 570.09  , 596.02  , 623.129 , 651.472 , 681.103 , 712.082 , 744.47  , 778.332 , 813.733 , 850.745 , 889.44  , 929.896 , 972.191 , 1016.41 , 1062.64 , 1110.97 , 1161.5  , 1214.33 , 1269.57 , 1327.31 , 1387.68 , 1450.8  , 1516.79 , 1585.78 , 1657.9  , 1733.31 , 1812.15 , 1894.57 , 1980.75 , 2070.84 , 2165.03 , 2263.5  , 2366.46 , 2474.09 , 2586.62 , 2704.27 , 2827.27 , 2955.87 , 3090.31 , 3230.87 , 3377.82 , 3531.46 , 3692.09 , 3860.02 , 4035.58])\n",
    "req = np.array([1.98387, 1.91316, 1.84541, 1.78049, 1.71827, 1.65863, 1.60145, 1.54663, 1.49407, 1.44366, 1.3953, 1.34892, 1.30441, 1.26169, 1.22069, 1.18133, 1.14354, 1.10725, 1.07238, 1.03889, 1.0067, 0.975761, 0.946017, 0.917414, 0.889904, 0.863438, 0.83797, 0.813457, 0.789858, 0.767131, 0.745241, 0.72415, 0.703825, 0.684233, 0.665342, 0.647122, 0.629546, 0.612586, 0.596217, 0.580413, 0.565152, 0.550412, 0.53617, 0.522407, 0.509103, 0.49624, 0.483801, 0.471769, 0.460128, 0.448862, 0.437958, 0.427401, 0.417179, 0.407278, 0.397688, 0.388395, 0.379391, 0.370664, 0.362204, 0.354003, 0.34605, 0.338337, 0.330857, 0.323601, 0.316561, 0.309732, 0.303104, 0.296673, 0.290432, 0.284375, 0.278496, 0.272789, 0.267249, 0.261872, 0.256651, 0.251584, 0.246664, 0.241888, 0.237252, 0.232751, 0.228382, 0.224141, 0.220025, 0.21603, 0.212152, 0.208389, 0.204737, 0.201193, 0.197755, 0.19442, 0.191185, 0.188047, 0.185003, 0.182052, 0.179191, 0.176417, 0.173729, 0.171124, 0.168599, 0.166153, 0.163784, 0.16149, 0.159268, 0.157117, 0.155035, 0.15302, 0.151071, 0.149185, 0.147361, 0.145597, 0.143892, 0.142244, 0.140651, 0.139112, 0.137625, 0.13619, 0.134804, 0.133465, 0.132174, 0.130928, 0.129726, 0.128566, 0.127448, 0.12637, 0.125331, 0.124329, 0.123364, 0.122435, 0.12154, 0.120678, 0.119848, 0.119049, 0.11828, 0.117541, 0.116829, 0.116145, 0.115487, 0.114854, 0.114245, 0.113661, 0.113099, 0.112559, 0.11204, 0.111542, 0.111063, 0.110604, 0.110162, 0.109739, 0.109332, 0.108942, 0.108567, 0.108208, 0.107863, 0.107532, 0.107215, 0.106911])"
   ]
  },
  {
   "cell_type": "markdown",
   "metadata": {},
   "source": [
    "### MonteCarlo data\n",
    "[back to top](#Table-of-contents)"
   ]
  },
  {
   "cell_type": "markdown",
   "metadata": {},
   "source": [
    "**IMPORTANT Basic information about the reference simtel file**  \n",
    "When referring to the comparison with CTA-MARS, the file used in these benchmarks is  \n",
    "_gamma_20deg_180deg_run100___cta-prod3-demo-2147m-LaPalma-baseline.simtel.gz_  \n",
    "and has the following basic features when NO selection is applied,\n",
    "* number of simulated showers  = 9793\n",
    "* number of images (LST + MST) = 44401\n",
    "* min number of triggered telescopes per shower = 2"
   ]
  },
  {
   "cell_type": "code",
   "execution_count": null,
   "metadata": {},
   "outputs": [],
   "source": [
    "# load every time you want to plot simtel-related information....\n",
    "\n",
    "indir = Path('') # path of the simtel file to be used\n",
    "infile = 'gamma_20deg_180deg_run100___cta-prod3-demo-2147m-LaPalma-baseline.simtel.gz' # name of the simtel file to be used\n",
    "\n",
    "with event_source(indir / infile) as source:\n",
    "\n",
    "    camera_names = [camera_description.camera_name for camera_description in source.subarray.camera_types]\n",
    "    print(f\"This simtel file contains the following cameras : {camera_names}\")\n",
    "\n",
    "    # Find first event that triggeres all cameras\n",
    "\n",
    "    for event in source:\n",
    "\n",
    "        tels_with_data = event.r0.tels_with_data\n",
    "        camera_names_triggered = [source.subarray.tels[tel].camera.camera_name for tel in tels_with_data]\n",
    "\n",
    "        if all(camera_name in camera_names_triggered for camera_name in camera_names):\n",
    "            print(f\"Event #{event.count} is the first event which triggers all camera types and will be used for the simtel benchmarks.\")\n",
    "            break\n",
    "\n",
    "    # Get minimum number of telescope to plot from\n",
    "    tels_to_use = []\n",
    "    for camera_name in camera_names:\n",
    "        for tel in tels_with_data:\n",
    "            if source.subarray.tels[tel].camera.camera_name == camera_name:\n",
    "                tels_to_use.append(tel)\n",
    "                break\n",
    "\n",
    "    print(f\"Telescopes that will be used for pedestals and dc_to_phe = {tels_to_use}\")"
   ]
  },
  {
   "cell_type": "markdown",
   "metadata": {},
   "source": [
    "### Protopipe\n",
    "[back to top](#Table-of-contents)"
   ]
  },
  {
   "cell_type": "code",
   "execution_count": null,
   "metadata": {},
   "outputs": [],
   "source": [
    "# Basic information\n",
    "analysisName = \"test\" # a suffix for all the plots \n",
    "indir=Path('') # path of the protopipe training files in your setup\n",
    "\n",
    "fileName_1stPass='' # protopipe training file with 2nd pass integration DISABLED\n",
    "fileName_2ndPass='' # protopipe training file with 2nd pass integration ENABLED"
   ]
  },
  {
   "cell_type": "code",
   "execution_count": null,
   "metadata": {},
   "outputs": [],
   "source": [
    "table = tables.open_file(indir / fileName_1stPass) # 1st or 2nd pass is the same here\n",
    "all_mc_images = table.get_node(\"/simulation/event/telescope/images\")\n",
    "tel_types = [all_mc_images._f_list_nodes()[i].name for i in range(len(all_mc_images._f_list_nodes()))]\n",
    "table.close()\n",
    "\n",
    "print(\"The calibration benchmarks will be produced for the following telescope types:\\n\")\n",
    "for tel_type in tel_types:\n",
    "    print(f\" - {tel_type}\\n\")"
   ]
  },
  {
   "cell_type": "code",
   "execution_count": null,
   "metadata": {},
   "outputs": [],
   "source": [
    "# Initialize empty dictionaries for camera-wise information\n",
    "true_images = {}\n",
    "reco1stPass = {}\n",
    "reco2ndPass = {}\n",
    "\n",
    "# Load subarray-wise information\n",
    "showers = load_reset_showers(indir = indir, fileName = fileName_1stPass) # 1st or 2nd pass is the same here\n",
    "showers = Table(showers[:])['event_id', 'true_energy']\n",
    "\n",
    "# Load camera-wise information\n",
    "for tel_type in tel_types:\n",
    "    true, reco1 = load_reset_images(indir = indir, fileName = fileName_1stPass, tel = tel_type)\n",
    "    _, reco2 = load_reset_images(indir = indir, fileName = fileName_2ndPass, tel = tel_type)\n",
    "    \n",
    "    true_images[tel_type] = true\n",
    "    reco1stPass[tel_type] = reco1\n",
    "    reco2ndPass[tel_type] = reco2"
   ]
  },
  {
   "cell_type": "code",
   "execution_count": null,
   "metadata": {},
   "outputs": [],
   "source": [
    "# Get one table per telescope type\n",
    "\n",
    "data = {}\n",
    "\n",
    "for tel_type in tel_types:\n",
    "    \n",
    "    # Convert to astropy tables, filtering out useless information\n",
    "    true_images[tel_type] = Table(true_images[tel_type][:])['event_id','tel_id','true_image']\n",
    "    reco1stPass[tel_type] = Table(reco1stPass[tel_type][:])['event_id','tel_id','image']\n",
    "    reco2ndPass[tel_type] = Table(reco2ndPass[tel_type][:])['event_id','tel_id','image']\n",
    "    \n",
    "    images = join(true_images[tel_type], reco1stPass[tel_type], keys=['event_id', 'tel_id'], join_type='left')\n",
    "\n",
    "    # merge each telescope type table of images with the shower information\n",
    "    data[tel_type] = join(images, showers, keys=['event_id'], join_type='left')"
   ]
  },
  {
   "cell_type": "code",
   "execution_count": null,
   "metadata": {},
   "outputs": [],
   "source": [
    "# Check that all the images have been recorded\n",
    "# WARNING: this works only on the specific simtel file used for these benchmarks! Please, use the same file.\n",
    "\n",
    "missing_images = 44401\n",
    "for tel_type in tel_types:\n",
    "    missing_images -= len(data[tel_type])\n",
    "\n",
    "if missing_images:\n",
    "    \n",
    "    print(\"NOTE: if you are NOT using the simtel file specific for the protopipe - CTA-MARS comparison, ignore the following warning.\")\n",
    "    \n",
    "    print(f\"WARNING: it appears you are missing {missing_images} images!\")\n",
    "    print(f\"This corresponds to about {missing_images*100/44401:.0f}% of the total statistics.\")\n",
    "    print(\"Please, check that:\")\n",
    "    print(\"* either you have enabled some cuts in analysis.yaml,\")\n",
    "    print(\"* or you are not considering some events in your analysis when you write to file.\")"
   ]
  },
  {
   "cell_type": "code",
   "execution_count": null,
   "metadata": {},
   "outputs": [],
   "source": [
    "# calibScale is placed here momentaneously\n",
    "calibscale = 0.92\n",
    "\n",
    "# initialize empty lists to store camera-wise information\n",
    "true = {}\n",
    "reco_1 = {}\n",
    "reco_2 = {}\n",
    "weights = {}\n",
    "\n",
    "# cycle through recognized cameras and fill the required information\n",
    "for tel_type in tel_types:\n",
    "    \n",
    "    true[tel_type] = data[tel_type][\"true_image\"].ravel()\n",
    "    reco_1[tel_type] = data[tel_type][\"image\"].ravel() / calibscale\n",
    "    reco_2[tel_type] = reco2ndPass[tel_type][\"image\"].ravel() / calibscale\n",
    "    weights[tel_type] = apply_weight_BTEL1010(data[tel_type])"
   ]
  },
  {
   "cell_type": "code",
   "execution_count": null,
   "metadata": {},
   "outputs": [],
   "source": [
    "print(f\"Total number of pixel-wise values read from simtel file and stored in DL1 files without cuts\")\n",
    "for tel_type in tel_types:\n",
    "    print(f\"{tel_type} = {len(true[tel_type])}\")\n",
    "print(f\"'pixel-wise values' means #pixels * #cameras * #events\")\n",
    "print(f\"In this phase all single-telescope images are considered.\")"
   ]
  },
  {
   "cell_type": "markdown",
   "metadata": {},
   "source": [
    "### CTA-MARS\n",
    "[back to top](#Table-of-contents)"
   ]
  },
  {
   "cell_type": "markdown",
   "metadata": {},
   "source": [
    "CTAMARS reference data is stored at [this URL](https://forge.in2p3.fr/projects/step-by-step-reference-mars-analysis/wiki)"
   ]
  },
  {
   "cell_type": "code",
   "execution_count": null,
   "metadata": {},
   "outputs": [],
   "source": [
    "indir = Path(\"\")\n",
    "fileName = \"CTA_check_dl1a.root\"\n",
    "path_mars_hists = Path(indir/fileName)\n",
    "\n",
    "fileName = \"IntensityResolution_graphs.root\"\n",
    "path_mars_rms = Path(indir/fileName)"
   ]
  },
  {
   "cell_type": "code",
   "execution_count": null,
   "metadata": {},
   "outputs": [],
   "source": [
    "# from CTA_check_dl1a.root\n",
    "file_hists = uproot.open(path_mars_hists)\n",
    "hist2 = file_hists[\"hist2_type00\"]\n",
    "H2 = hist2.numpy()\n",
    "# from IntensityResolution_graphs\n",
    "file_rms = uproot.open(path_mars_rms)\n",
    "rms = {}\n",
    "rms[\"LST_LST_LSTCam\"] = file_rms[\"IntensityResolution_LST\"]\n",
    "rms[\"MST_MST_NectarCam\"] = file_rms[\"IntensityResolution_MST\"]"
   ]
  },
  {
   "cell_type": "markdown",
   "metadata": {},
   "source": [
    "## Plots and benchmarks\n",
    "[back to top](#Table-of-contents)"
   ]
  },
  {
   "cell_type": "markdown",
   "metadata": {},
   "source": [
    "### R1-level information\n",
    "[back to top](#Table-of-contents)"
   ]
  },
  {
   "cell_type": "markdown",
   "metadata": {},
   "source": [
    "#### Pedestals\n",
    "[back to top](#Table-of-contents)"
   ]
  },
  {
   "cell_type": "code",
   "execution_count": null,
   "metadata": {},
   "outputs": [],
   "source": [
    "for tel_id in tels_to_use:\n",
    "\n",
    "    cam_id = source.subarray.tel[tel_id].camera.camera_name\n",
    "    pix_ids = source.subarray.tel[tel_id].camera.geometry.pix_id\n",
    "    pedestals = event.mc.tel[tel_id].pedestal\n",
    "    \n",
    "    fig, (ax1, ax2) = plt.subplots(1,2, figsize=(12, 5), tight_layout=False, sharey=True)\n",
    "    plt.suptitle(cam_id)\n",
    "    ax1.set_xlabel(\"Pixel ID\")\n",
    "    ax1.set_ylabel(\"Pedestal ADC counts\")\n",
    "    if len(pedestals)==2:\n",
    "        p1 = ax1.plot(pix_ids, pedestals[1], label=\"High gain\")\n",
    "        p2 = ax1.plot(pix_ids, pedestals[0], label=\"Low gain\")\n",
    "        ax2.hist(pedestals[1], bins = 100, orientation=\"horizontal\", label=\"pedestals HG\")\n",
    "        add_stats(pedestals[1], ax2, x = 0.55, y = 0.10, color = p1[0].get_color())\n",
    "        ax2.hist(pedestals[0], bins = 100, orientation=\"horizontal\", label=\"pedestals LG\")\n",
    "        add_stats(pedestals[0], ax2, x = 0.55, y = 0.25, color = p2[0].get_color())\n",
    "        ax1.legend()\n",
    "        ax2.legend()\n",
    "    else:\n",
    "        p1 = ax1.plot(pix_ids, pedestals[0])\n",
    "        ax2.hist(pedestals[0], bins = 100, orientation=\"horizontal\")\n",
    "        add_stats(pedestals[0], ax2, x = 0.55, y = 0.10, color = p1[0].get_color())\n",
    "    \n",
    "    fig.savefig(f\"./plots_calibration/pedestalsVSpixelids_{cam_id}_{analysisName}.png\")"
   ]
  },
  {
   "cell_type": "markdown",
   "metadata": {},
   "source": [
    "#### DC to PHE\n",
    "[back to top](#Table-of-contents)"
   ]
  },
  {
   "cell_type": "code",
   "execution_count": null,
   "metadata": {},
   "outputs": [],
   "source": [
    "# plot channel-wise\n",
    "for i, gain in enumerate([\"Low\", \"High\"]):\n",
    "    \n",
    "    fig, (ax1, ax2) = plt.subplots(1,2, figsize=(12, 5), tight_layout=False, sharey=True)\n",
    "    title = f\"{gain} channel\" if gain == \"High\" else f\"{gain} channel (or single channel case)\"\n",
    "    plt.suptitle(title)\n",
    "    ax1.set_xlabel(\"Pixel ID\")\n",
    "    ax1.set_ylabel(f\"DC to PHE\")\n",
    "    \n",
    "    delta=0\n",
    "    for tel_id in tels_to_use:\n",
    "    \n",
    "        cam_id = source.subarray.tel[tel_id].camera.camera_name\n",
    "        pix_ids = source.subarray.tel[tel_id].camera.geometry.pix_id\n",
    "        dc_to_pe = event.mc.tel[tel_id].dc_to_pe\n",
    "        \n",
    "        if len(dc_to_pe) == 1 and i==1:\n",
    "            continue\n",
    "        \n",
    "        p = ax1.plot(pix_ids, dc_to_pe[i], label=cam_id)\n",
    "        ax2.hist(dc_to_pe[i], bins = 100, orientation=\"horizontal\")\n",
    "        add_stats(dc_to_pe[i], ax2, x = 0.55, y = 0.30 + delta, color = p[0].get_color())\n",
    "        delta+=0.15\n",
    "        \n",
    "    delta=0\n",
    "        \n",
    "    ax1.legend(loc=\"best\")\n",
    "    \n",
    "    fig.savefig(f\"./plots_calibration/dcTophe_{gain}Gain_VS_pixelids_{analysisName}.png\")\n",
    "    "
   ]
  },
  {
   "cell_type": "markdown",
   "metadata": {},
   "source": [
    "### Correlation between the reconstructed and true number of photoelectrons\n",
    "[back to top](#Table-of-contents)"
   ]
  },
  {
   "cell_type": "code",
   "execution_count": null,
   "metadata": {},
   "outputs": [],
   "source": [
    "mc = {} # true phes\n",
    "reco = {} # reconstructed phes\n",
    "w = {} # weigths from requirement B-TEL-1010\n",
    "for tel_type in tel_types:\n",
    "    # filter positive number of photoelectrons (because it's a log-log plot)\n",
    "    good_values = np.where((true[tel_type]>0) & (reco_1[tel_type]>0))\n",
    "    # combine cameras\n",
    "    mc[tel_type] = true[tel_type][good_values]\n",
    "    reco[tel_type] = reco_1[tel_type][good_values]\n",
    "    # filter also weights\n",
    "    w[tel_type] = weights[tel_type][good_values]"
   ]
  },
  {
   "cell_type": "code",
   "execution_count": null,
   "metadata": {},
   "outputs": [],
   "source": [
    "nbins_x = 400\n",
    "nbins_y = 400\n",
    "\n",
    "for tel_type in tel_types:\n",
    "    print(tel_type)\n",
    "    fig = plt.figure(figsize=(6, 5), tight_layout=False)\n",
    "    \n",
    "    plt.title(tel_type)\n",
    "    plt.xlabel(\"log10(true #p.e)\")\n",
    "    plt.ylabel(\"log10(reco #p.e)\")\n",
    "    \n",
    "    # This is just to count the real number of events given to the histogram\n",
    "    h_no_weights = plt.hist2d(np.log10(mc[tel_type]), np.log10(reco[tel_type]),\n",
    "                   bins=[nbins_x, nbins_y],\n",
    "                   range=[[-7.,5.],[-7.,5.]],\n",
    "                   norm=LogNorm(),\n",
    "                  )\n",
    "    \n",
    "    # This histogram has the weights applied, so the number of events there is biased by this\n",
    "    # This is what is plot\n",
    "    h = plt.hist2d(np.log10(mc[tel_type]), np.log10(reco[tel_type]),\n",
    "                   bins=[nbins_x, nbins_y],\n",
    "                   range=[[-7.,5.],[-7.,5.]],\n",
    "                   norm=LogNorm(),\n",
    "                   cmap=plt.cm.rainbow,\n",
    "                   weights=w[tel_type],\n",
    "                  )\n",
    "    \n",
    "    plt.plot([0, 4], [0, 4], color=\"black\") # line showing perfect correlation\n",
    "    plt.minorticks_on()\n",
    "    plt.xticks(ticks=np.arange(-1, 5, 0.5), labels=[\"\",\"\"]+[str(i) for i in np.arange(0, 5, 0.5)])\n",
    "    plt.xlim(-0.2,4.2)\n",
    "    plt.ylim(-4.,4.)\n",
    "    plt.colorbar(h[3], \n",
    "                 ax=plt.gca()\n",
    "                )\n",
    "    plt.grid()\n",
    "    \n",
    "    fig.savefig(f\"./plots_calibration/recoPhesVsTruePhes_{tel_type}_protopipe_{analysisName}.png\")\n",
    "    \n",
    "    # Print some debug/benchmarking information\n",
    "    print(f\"Total number of events in the plot of {tel_type} (before re-weighting) = {h_no_weights[0].sum()}\")"
   ]
  },
  {
   "cell_type": "markdown",
   "metadata": {},
   "source": [
    "### Charge resolution\n",
    "[back to top](#Table-of-contents)"
   ]
  },
  {
   "cell_type": "code",
   "execution_count": null,
   "metadata": {},
   "outputs": [],
   "source": [
    "mc = {} # true phes\n",
    "reco = {} # reconstructed phes\n",
    "w = {} # weigths from requirement B-TEL-1010\n",
    "for tel_type in tel_types:\n",
    "    # filter positive number of photoelectrons (because it's a log-log plot)\n",
    "    good_values = np.where((true[tel_type]>0))\n",
    "    # combine cameras\n",
    "    mc[tel_type] = true[tel_type][good_values]\n",
    "    reco[tel_type] = reco_1[tel_type][good_values]\n",
    "    # filter also weights\n",
    "    w[tel_type] = weights[tel_type][good_values]"
   ]
  },
  {
   "cell_type": "code",
   "execution_count": null,
   "metadata": {},
   "outputs": [],
   "source": [
    "nbins_x = 800\n",
    "nbins_y = 600\n",
    "\n",
    "histogram = {} # camera-wise un-zoomes histogram for calculating bias later on\n",
    "\n",
    "for tel_type in tel_types:\n",
    "    \n",
    "    fig = plt.figure(figsize=(6, 5), tight_layout=False)\n",
    "    \n",
    "    plt.title(tel_type)\n",
    "    plt.xlabel(\"log10(true #p.e)\")\n",
    "    plt.ylabel(\"reconstructed #p.e / true #p.e\")\n",
    "    \n",
    "    h = plt.hist2d(np.log10(mc[tel_type]), (reco[tel_type]/mc[tel_type]),\n",
    "                   bins=[nbins_x, nbins_y],\n",
    "                   range=[[-7.,15.],[-2,13]],\n",
    "                   norm=LogNorm(),\n",
    "                   cmap=plt.cm.rainbow,\n",
    "                   weights=w[tel_type],\n",
    "                  )\n",
    "    \n",
    "    histogram[tel_type] = h\n",
    "    \n",
    "    plt.plot([0, 4], [1, 1], color=\"black\") # line showing perfect correlation\n",
    "    plt.colorbar(h[3], ax=plt.gca()\n",
    "                 #, format=ticker.FuncFormatter(fmt)\n",
    "                )\n",
    "    ax = plt.gca()\n",
    "    ax.minorticks_on()\n",
    "    ax.tick_params(axis='x', which='minor')\n",
    "    plt.grid()\n",
    "    plt.xlim(-0.2,4.2)\n",
    "    plt.ylim(-2.,6.)\n",
    "\n",
    "    fig.savefig(f\"./plots_calibration/chargeResolution_1stPass_{tel_type}_protopipe_{analysisName}.png\")"
   ]
  },
  {
   "cell_type": "markdown",
   "metadata": {},
   "source": [
    "### Calculation of the residual average bias\n",
    "[back to top](#Table-of-contents)"
   ]
  },
  {
   "cell_type": "code",
   "execution_count": null,
   "metadata": {
    "scrolled": true
   },
   "outputs": [],
   "source": [
    "corr = {}\n",
    "print(f\"Correction factors for residual average bias : \")\n",
    "for tel_type in tel_types:\n",
    "    corr[tel_type] = calc_bias(histogram[tel_type][1], histogram[tel_type][2], histogram[tel_type][0])\n",
    "    print(f\"- {tel_type} = {corr[tel_type]:.2f}\")"
   ]
  },
  {
   "cell_type": "markdown",
   "metadata": {},
   "source": [
    "### Charge resolution corrected for residual average bias\n",
    "[back to top](#Table-of-contents)"
   ]
  },
  {
   "cell_type": "code",
   "execution_count": null,
   "metadata": {},
   "outputs": [],
   "source": [
    "nbins_x = 800\n",
    "nbins_y = 600\n",
    "\n",
    "histogram = {} # camera-wise un-zoomes histogram for calculating RMS later on\n",
    "\n",
    "for tel_type in tel_types:\n",
    "    \n",
    "    fig = plt.figure(figsize=(6, 5), tight_layout=False)\n",
    "    \n",
    "    plt.title(tel_type)\n",
    "    plt.xlabel(\"log10(true #p.e)\")\n",
    "    plt.ylabel(\"{:.2f}*(reconstructed #p.e / true #p.e)\".format(corr[tel_type]))\n",
    "    \n",
    "    h = plt.hist2d(np.log10(mc[tel_type]), corr[tel_type]*(reco[tel_type]/mc[tel_type]),\n",
    "                   bins=[nbins_x, nbins_y],\n",
    "                   range=[[-7.,15.],[-2,13]],\n",
    "                   norm=LogNorm(),\n",
    "                   cmap=plt.cm.rainbow,\n",
    "                   weights=w[tel_type],\n",
    "                  )\n",
    "    \n",
    "    histogram[tel_type] = h\n",
    "    \n",
    "    plt.plot([0, 4], [1, 1], color=\"black\") # line showing perfect correlation\n",
    "    plt.colorbar(h[3], ax=plt.gca())\n",
    "    ax = plt.gca()\n",
    "    ax.minorticks_on()\n",
    "    ax.tick_params(axis='x', which='minor')\n",
    "    plt.grid()\n",
    "    plt.xlim(-0.2,4.2)\n",
    "    plt.ylim(-2.,6.)\n",
    "\n",
    "    fig.savefig(f\"./plots_calibration/chargeResolution_1stPass_{tel_type}_protopipe_{analysisName}.png\")"
   ]
  },
  {
   "cell_type": "markdown",
   "metadata": {},
   "source": [
    "### RMS of charge resolution (around 1)\n",
    "[back to top](#Table-of-contents)"
   ]
  },
  {
   "cell_type": "markdown",
   "metadata": {},
   "source": [
    "**WARNING:** the following comparison makes sense only if the provided simtel file is the one used in the comparison between *protopipe* and *CTA-MARS*. *protopipe* data from other cameras is anyway shown."
   ]
  },
  {
   "cell_type": "code",
   "execution_count": null,
   "metadata": {},
   "outputs": [],
   "source": [
    "for tel_type in tel_types:\n",
    "    \n",
    "    fig = plt.figure(figsize=(10,5), tight_layout=False)\n",
    "    \n",
    "    plt.subplot(1,2,1)\n",
    "\n",
    "    bin_edges_true = histogram[tel_type][1]\n",
    "    bincenters_true = 0.5*(bin_edges_true[1:]+bin_edges_true[:-1]) # mean value of each bin in true photoelectrons\n",
    "    bin_edges_y = histogram[tel_type][2] # bin edges in reconstructed photoelectrons\n",
    "    bincenters_y = 0.5*(bin_edges_y[1:]+bin_edges_y[:-1]) # mean value of each bin in reconstructed photoelectrons\n",
    "\n",
    "    # cycle over bins in true photoelectrons:\n",
    "    values = []\n",
    "    errors = []\n",
    "    n = 0\n",
    "    ref = []\n",
    "\n",
    "    for true_bin in range(len(bincenters_true)):\n",
    "        # if the bin center is over 3.2\n",
    "        if (bincenters_true[true_bin] > 3.2):\n",
    "            break # stop\n",
    "        # if it's before -0.5\n",
    "        if (bincenters_true[true_bin] < -0.5):\n",
    "            continue # check the next bin\n",
    "        # else proceed with the calculation\n",
    "        # take the profile at this X bin along the Y axis\n",
    "        profile_y = histogram[tel_type][0][true_bin] # this is the sequence of weights (aka the heights of the 600 bins)\n",
    "        # if there is data falling in this X-axis bin,\n",
    "        if np.sum(profile_y):\n",
    "            ref.append(true_bin)\n",
    "            # get the resolution the way Abelardo does\n",
    "            # to do this we need also the bin centers along the Y axis\n",
    "            result = calc_rms(bincenters_y, profile_y)\n",
    "            values.append(result)\n",
    "\n",
    "            # error bars TO DO\n",
    "\n",
    "            n = n + 1\n",
    "        else: # otherwise go to the next bin in true photoelectrons\n",
    "            continue\n",
    "\n",
    "    values = np.asarray(values)\n",
    "    # errors = np.asarray(errors)\n",
    "\n",
    "    # protopipe\n",
    "    plt.plot(bincenters_true[ref], values, 'o', markersize=2, label=\"protopipe\")\n",
    "    # plt.errorbar(bincenters_true[ref], values, yerr=errors, fmt='o',markersize=2, label=\"protopipe\")\n",
    "    \n",
    "    # CTA-MARS\n",
    "    \n",
    "    # only for LSTCam and NectarCam (comparison between pipelines)\n",
    "    if tel_type == \"LST_LST_LSTCam\" or tel_type == \"MST_MST_NectarCam\":\n",
    "        rms[tel_type].matplotlib(fmt=\"o\", markersize=2, label=\"CTA-MARS\")\n",
    "\n",
    "    plt.yscale(\"log\")\n",
    "    plt.ylim(0.02,6)\n",
    "    plt.xlim(-0.2,4.2)\n",
    "\n",
    "    # superimose requirement converted in p.e. from abelardo script\n",
    "    plt.plot(np.log10(photons), req, label=\"requirement\")\n",
    "\n",
    "    plt.grid(which='both', axis='y')\n",
    "    plt.grid(which='major', axis='x')\n",
    "    plt.minorticks_on()\n",
    "    plt.legend()\n",
    "    \n",
    "    plt.title(tel_type)\n",
    "    plt.xlabel(\"log10(true #p.e)\")\n",
    "    plt.ylabel(\"Bias-corrected charge resolution RMS around 1\")\n",
    "    \n",
    "    plt.subplot(1,2,2)\n",
    "    \n",
    "    # this is to prevent low statistics errors in other simtel files\n",
    "    if tel_type == \"LST_LST_LSTCam\" or tel_type == \"MST_MST_NectarCam\" and (len(values) < len(rms[tel_type].yvalues)):\n",
    "        values = np.append(values, np.repeat(np.nan, len(rms[tel_type].yvalues) - len(values)))\n",
    "    \n",
    "    # only for LSTCam and NectarCam (comparison between pipelines)\n",
    "    if tel_type == \"LST_LST_LSTCam\" or tel_type == \"MST_MST_NectarCam\":\n",
    "        plt.plot(rms[tel_type].xvalues, values/rms[tel_type].yvalues, label=\"ratio protopipe/CTA-MARS\")\n",
    "    ax = plt.gca()\n",
    "    xlims=ax.get_xlim()\n",
    "    plt.hlines(1., xlims[0], xlims[1], label=\"expectation\", color='r')\n",
    "    plt.ylim(0, 2)\n",
    "    plt.grid()\n",
    "    plt.legend()\n",
    "    plt.xlabel(\"log10(true #p.e)\")\n",
    "\n",
    "    plt.show()\n",
    "    \n",
    "    fig.savefig(f\"./plots_calibration/chargeResolution_RMSaround1_1stPass_{tel_type}_protopipe_{analysisName}.png\")"
   ]
  },
  {
   "cell_type": "markdown",
   "metadata": {},
   "source": [
    "**Note:** the requirement is placed only for completness, but it's not directly comparable to the data - see the *Requirements* section."
   ]
  },
  {
   "cell_type": "markdown",
   "metadata": {},
   "source": [
    "### Single-pixel spectra\n",
    "[back to top](#Table-of-contents)"
   ]
  },
  {
   "cell_type": "code",
   "execution_count": null,
   "metadata": {},
   "outputs": [],
   "source": [
    "reco_1stPass = {} # reconstructed phes from the 1st pass\n",
    "reco_2ndPass = {} # reconstructed phes from the 2nd pass\n",
    "\n",
    "for tel_type in tel_types:\n",
    "    # filter positive number of photoelectrons (because it's a log-log plot)\n",
    "    good_values_1stPass = np.where(reco_1[tel_type]>0)\n",
    "    good_values_2ndPass = np.where(reco_2[tel_type]>0)\n",
    "    # combine cameras\n",
    "    reco_1stPass[tel_type] = reco_1[tel_type][good_values_1stPass]\n",
    "    reco_2ndPass[tel_type] = reco_2[tel_type][good_values_2ndPass]"
   ]
  },
  {
   "cell_type": "code",
   "execution_count": null,
   "metadata": {},
   "outputs": [],
   "source": [
    "nbins = 250\n",
    "xrange = [-1,4]\n",
    "\n",
    "# dictionaries to store the spectra information for different methods\n",
    "core_thresholds = {}\n",
    "tot_entries = {}\n",
    "noise_2ndPass = {}\n",
    "signal_2ndPass = {}\n",
    "hist_1 = {}\n",
    "xbins_1 = {}\n",
    "hist_2 = {}\n",
    "xbins_2 = {}\n",
    "hist_3 = {}\n",
    "xbins_3 = {}\n",
    "spectra = {}\n",
    "\n",
    "for tel_type in tel_types:\n",
    "    \n",
    "    fig = plt.figure(figsize=(6, 5), tight_layout=False)\n",
    "    \n",
    "    plt.title(tel_type)\n",
    "    plt.xlabel(\"log10(reconstructed #p.e)\")\n",
    "    plt.ylabel(\"Relative frequency of pixels with > x phe\")\n",
    "\n",
    "    # all the original simulated events\n",
    "    t = true[tel_type]\n",
    "    tot_entries[tel_type] = len(t) # events * telescopes * pixels\n",
    "    # 1st pass: no cut, all 1st pass images are saved by the image extractor TwoPassWindowSum\n",
    "    # 2nd pass: only images which survived 1st pass and which preliminary image fit was non-patological\n",
    "    # WARNING: no way to know in ctapipe 0.8\n",
    "    t_2ndPass = t[np.where(reco_2[tel_type]>0)]\n",
    "    \n",
    "    # Since we are working only with simulated data,\n",
    "    # \"signal\" is when a pixel has at least 1 simulated photoelectron\n",
    "    # \"noise\"  is when a pixel has no simulated photoelectron\n",
    "    signal_2ndPass[tel_type] = reco_2ndPass[tel_type][np.where(t_2ndPass>0)]\n",
    "    noise_2ndPass[tel_type] = reco_2ndPass[tel_type][np.where(t_2ndPass==0)]\n",
    "    # noise_2ndPass = reco_2[tel_types[i]][np.where(t==0)]\n",
    "    # signal_2ndPass = reco_2[tel_types[i]][np.where(t>0)]\n",
    "    \n",
    "    # Plot 1st-Pass\n",
    "    \n",
    "    hist_1[tel_type], xbins_1[tel_type] = np.histogram(np.log10(reco_1stPass[tel_type]), bins=nbins, range=xrange)\n",
    "    plt.semilogy(xbins_1[tel_type][:-1], hist_1[tel_type][::-1].cumsum()[::-1]/tot_entries[tel_type], drawstyle=\"steps-post\",alpha=0.7, label=\"1st-pass signal + noise\", color='blue')\n",
    "    \n",
    "    # Plot 2nd-Pass\n",
    "    \n",
    "    hist_2[tel_type], xbins_2[tel_type] = np.histogram(np.log10(reco_2ndPass[tel_type]), bins=nbins, range=xrange)\n",
    "    spectra[tel_type] = plt.semilogy(xbins_2[tel_type][:-1], hist_2[tel_type][::-1].cumsum()[::-1]/tot_entries[tel_type], drawstyle=\"steps-post\",alpha=0.7, label=\"2nd-pass signal + noise\", color='green')\n",
    "\n",
    "     # Plot 2nd-Pass noise\n",
    "    \n",
    "    hist_3[tel_type], xbins_3[tel_type] = np.histogram(np.log10(noise_2ndPass[tel_type]), bins=nbins, range=xrange)\n",
    "    plt.semilogy(xbins_3[tel_type][:-1], hist_3[tel_type][::-1].cumsum()[::-1]/tot_entries[tel_type], drawstyle=\"steps-post\",alpha=0.7, label=\"2nd-pass noise\", color='orange')\n",
    "    \n",
    "    # common style options\n",
    "    plt.xlim(xrange)\n",
    "    plt.minorticks_on()\n",
    "    plt.xticks(np.arange(min(xrange), max(xrange)+1, 0.5))\n",
    "    plt.grid(which=\"major\")\n",
    "    plt.legend()\n",
    "    \n",
    "    fig.savefig(f\"./plots_calibration/singlePixelSpectrum_{tel_types}_protopipe_{analysisName}.png\")"
   ]
  },
  {
   "cell_type": "markdown",
   "metadata": {},
   "source": [
    "### Optimized cleaning thesholds\n",
    "[back to top](#Table-of-contents)"
   ]
  },
  {
   "cell_type": "markdown",
   "metadata": {},
   "source": [
    "**WARNING:** since the pipeline doesn't know about the residual bias calculated before (at least for now), regardless of the method you choose, you need to use the BIASED units to setup the image cleaning (i.e. the values to be put in the analysis configuration file of protopipe).\n",
    "\n",
    "**NOTE:** If the pipeline corrected perfectly everything, you would expect the bias to be almost 0, so in that case the final biased and unbiased values should be very similar."
   ]
  },
  {
   "cell_type": "markdown",
   "metadata": {},
   "source": [
    "#### Method 1: 99.7% of \"noise\" rejection\n",
    "[back to top](#Table-of-contents)"
   ]
  },
  {
   "cell_type": "markdown",
   "metadata": {},
   "source": [
    "**WARNING**:\n",
    "\n",
    "The 99.7% cut we were using before seems to have been a fortuitous choice given by the fact that in protopipe 0.2.1-dev we were mimicking the CTA-MARS analysis almost at perfection.\n",
    "\n",
    "In ctapipe 0.8.0 some changes have been introduced for which the *intrinsic* or *biased* spectra are now different.\n",
    "Consequently, that cut is not reliable anymore (and indeed it gives way higher values - you can see it from the fact that the decoupling between \"noise\" and signal happens way before than where the line cut ends up).\n",
    "\n",
    "For CTA-MARS the transistion happens at ~4 biased phe (0.6 in these plots)"
   ]
  },
  {
   "cell_type": "code",
   "execution_count": null,
   "metadata": {},
   "outputs": [],
   "source": [
    "for tel_type in tel_types:\n",
    "    \n",
    "    fig = plt.figure(figsize=(6, 5), tight_layout=False)\n",
    "    \n",
    "    plt.title(tel_type)\n",
    "    plt.xlabel(\"log10(reconstructed #p.e)\")\n",
    "    plt.ylabel(\"Relative frequency of pixels with > x phe\")\n",
    "    \n",
    "    # Plot 1st-Pass\n",
    "    \n",
    "    plt.semilogy(xbins_1[tel_type][:-1], hist_1[tel_type][::-1].cumsum()[::-1]/tot_entries[tel_type], drawstyle=\"steps-post\",alpha=0.7, label=\"1st-pass signal + noise\", color='blue')\n",
    "    \n",
    "    # Plot 2nd-Pass\n",
    "    \n",
    "    plt.semilogy(xbins_2[tel_type][:-1], hist_2[tel_type][::-1].cumsum()[::-1]/tot_entries[tel_type], drawstyle=\"steps-post\",alpha=0.7, label=\"2nd-pass signal + noise\", color='green')\n",
    "\n",
    "    # Plot 2nd-Pass noise\n",
    "    \n",
    "    plt.semilogy(xbins_3[tel_type][:-1], hist_3[tel_type][::-1].cumsum()[::-1]/tot_entries[tel_type], drawstyle=\"steps-post\",alpha=0.7, label=\"2nd-pass noise\", color='orange')\n",
    "    \n",
    "    # common style options\n",
    "    plt.xlim(xrange)\n",
    "    plt.minorticks_on()\n",
    "    plt.xticks(np.arange(min(xrange), max(xrange)+1, 0.5))\n",
    "    plt.grid(which=\"major\")\n",
    "    plt.legend()\n",
    "    \n",
    "    # Find best cut\n",
    "    cut = np.quantile(noise_2ndPass[tel_type], 0.997)\n",
    "    core_thresholds[tel_type] = cut\n",
    "    signal_saved = percentileofscore(signal_2ndPass[tel_type], cut)\n",
    "    \n",
    "    biased = core_thresholds[tel_type]\n",
    "    unbiased = core_thresholds[tel_type] * corr[tel_type]\n",
    "    \n",
    "    # Update plot\n",
    "    plt.vlines(np.log10(cut), ymin=1.e-7, ymax=1, color='red', linestyle=\"--\", label=f\"{cut:.2f} (biased) photoelectrons\")\n",
    "    plt.legend()\n",
    "    \n",
    "    # Print info about threshold cuts\n",
    "    # This is information related to 2nd pass (the one that ends up into image cleaning)\n",
    "    \n",
    "    print(f\"{tel_type}\\n\"\n",
    "         \"=================\")\n",
    "    \n",
    "    print(f\"Cutting at ~{cut:.5f} biased photoelectrons rejects 99.7% of the noise and saves {signal_saved:.1f}% of the signal\")\n",
    "    print(f\"This corresponds to {unbiased:.2f} **unbiased** photoelectrons.\")\n",
    "    print(f\"Optimized image cleaning thresholds to be used in the analysis:\\n\" \n",
    "          f\"(core, boundary): ({biased:.2f}, {biased/2:.2f})\"\n",
    "          f\"--> ({int(round(biased))}, {int(round(biased/2))})\\n\")\n",
    "    \n",
    "    fig.savefig(f\"./plots_calibration/singlePixelSpectrum_{tel_types}_cleaningMethod1_protopipe_{analysisName}.png\")"
   ]
  },
  {
   "cell_type": "markdown",
   "metadata": {},
   "source": [
    "#### Method 2: fix relative frequency of charge\n",
    "[back to top](#Table-of-contents)"
   ]
  },
  {
   "cell_type": "markdown",
   "metadata": {},
   "source": [
    "The y-axis describes how often (relative to all events) a pixel has a signal above the charge value given by the x-axis.  \n",
    "We fix a relative frequency of 1% to define the point at which noise is dominated by the shower's signal."
   ]
  },
  {
   "cell_type": "code",
   "execution_count": null,
   "metadata": {},
   "outputs": [],
   "source": [
    "for tel_type in tel_types:\n",
    "    \n",
    "    fig = plt.figure(figsize=(6, 5), tight_layout=False)\n",
    "    \n",
    "    plt.title(tel_type)\n",
    "    plt.xlabel(\"log10(reconstructed #p.e)\")\n",
    "    plt.ylabel(\"Relative frequency of pixels with > x phe\")\n",
    "    \n",
    "    # Plot 1st-Pass\n",
    "    \n",
    "    plt.semilogy(xbins_1[tel_type][:-1], hist_1[tel_type][::-1].cumsum()[::-1]/tot_entries[tel_type], drawstyle=\"steps-post\",alpha=0.7, label=\"1st-pass signal + noise\", color='blue')\n",
    "    \n",
    "    # Plot 2nd-Pass\n",
    "    \n",
    "    plt.semilogy(xbins_2[tel_type][:-1], hist_2[tel_type][::-1].cumsum()[::-1]/tot_entries[tel_type], drawstyle=\"steps-post\",alpha=0.7, label=\"2nd-pass signal + noise\", color='green')\n",
    "\n",
    "    # Plot 2nd-Pass noise\n",
    "    \n",
    "    plt.semilogy(xbins_3[tel_type][:-1], hist_3[tel_type][::-1].cumsum()[::-1]/tot_entries[tel_type], drawstyle=\"steps-post\",alpha=0.7, label=\"2nd-pass noise\", color='orange')\n",
    "    \n",
    "    # common style options\n",
    "    plt.xlim(xrange)\n",
    "    plt.minorticks_on()\n",
    "    plt.xticks(np.arange(min(xrange), max(xrange)+1, 0.5))\n",
    "    plt.grid(which=\"major\")\n",
    "    plt.legend()\n",
    "    \n",
    "    # Find best cut\n",
    "    \n",
    "    x = spectra[tel_type][0].get_xdata()\n",
    "    y = spectra[tel_type][0].get_ydata()\n",
    "    \n",
    "    y_t_idx = np.where(y<1.e-2)[0][0]\n",
    "    x_t = x[y_t_idx]\n",
    "    \n",
    "    biased = 10**x_t\n",
    "    unbiased = biased * corr[tel_type]\n",
    "    \n",
    "    # Update plot\n",
    "    \n",
    "    plt.vlines(x_t, ymin=1.e-7, ymax=1, color='red', linestyle=\"--\", label=f\"optimized threshold cut\")\n",
    "    plt.legend()\n",
    "    \n",
    "    # Print info about threshold cuts\n",
    "    # This is information related to 2nd pass (the one that ends up into image cleaning)\n",
    "    \n",
    "    print(f\"{tel_type}\\n\"\n",
    "         \"=================\")\n",
    "    print(f\"Transition from noise to signal happens at {biased:.2f} reconstructed **biased** phe\")\n",
    "    print(f\"This corresponds to {unbiased:.2f} **unbiased** photoelectrons.\")\n",
    "    print(f\"Optimized image cleaning thresholds to be used in the analysis:\\n\" \n",
    "          f\"(core, boundary): ({biased:.2f}, {biased/2:.2f})\"\n",
    "          f\"--> ({int(round(biased))}, {int(round(biased/2))})\\n\")\n",
    "    \n",
    "    fig.savefig(f\"./plots_calibration/singlePixelSpectrum_{tel_types[i]}_cleaningMethod2_protopipe_{analysisName}.png\")\n"
   ]
  }
 ],
 "metadata": {
  "celltoolbar": "Éditer les Méta-Données",
  "kernelspec": {
   "display_name": "Python 3",
   "language": "python",
   "name": "python3"
  },
  "language_info": {
   "codemirror_mode": {
    "name": "ipython",
    "version": 3
   },
   "file_extension": ".py",
   "mimetype": "text/x-python",
   "name": "python",
   "nbconvert_exporter": "python",
   "pygments_lexer": "ipython3",
   "version": "3.7.9"
  }
 },
 "nbformat": 4,
 "nbformat_minor": 4
}
