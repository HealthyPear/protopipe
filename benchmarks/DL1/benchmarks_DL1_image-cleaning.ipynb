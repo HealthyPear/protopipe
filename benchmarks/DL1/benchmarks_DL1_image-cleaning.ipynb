{
 "cells": [
  {
   "cell_type": "markdown",
   "metadata": {},
   "source": [
    "# Image cleaning"
   ]
  },
  {
   "cell_type": "markdown",
   "metadata": {},
   "source": [
    "**Author(s):**\n",
    " - Dr. Michele Peresano (CEA-Saclay/IRFU/DAp/LEPCHE), 2020\n",
    "\n",
    "**Description:**\n",
    "\n",
    "This notebook contains DL1-image-cleaning plots and benchmark proposals for the _protopipe_ pipeline.  \n",
    "This was mainly triggered by the step-by-step comparison against _CTA-MARS_, but it can be extended to other pipelines as well.  \n",
    "**NOTE** Let's try to follow [this](https://www.overleaf.com/16933164ghbhvjtchknf) document by adding those benchmarks or proposing new ones.  \n",
    "**WARNING** Contrary to the calibration notebook, I am still working on this one, so it's a bit messy and incomplete! \n",
    "\n",
    "**Requirements:**\n",
    "\n",
    "To run this notebook you will need a DL1 file which can be generated using _protopipe.scripts.write_dl1.py_ .    \n",
    "Reference simtel-file, plots, values and settings can be found [here (please, always refer to the latest version)](https://forge.in2p3.fr/projects/benchmarks-reference-analysis/wiki/Comparisons_between_pipelines) until we have a more automatic and fancy approach (aka [cta-benchmarks](https://github.com/cta-observatory/cta-benchmarks)+[ctaplot](https://github.com/cta-observatory/ctaplot)).  \n",
    "\n",
    "The data format required to run the notebook is the current one used by _protopipe_ . Later on it will be the same as in _ctapipe_ .  \n",
    "**WARNING:** Mono-telescope images (2 triggers - 1 image or 1 trigger - 1 image) are not currently taken into account by the publicly available development version (the new DL1 script will have them), until then expect a somewhat lower statistics.\n",
    "\n",
    "**Development and testing:**  \n",
    "\n",
    "For the moment this notebook is optimized to work only on files produced from LSTCam + NectarCam telescope configurations.  \n",
    "As with any other part of _protopipe_ and being part of the official repository, this notebook can be further developed by any interested contributor.  \n",
    "The execution of this notebook is not currently automatic, it must be done locally by the user - preferably _before_ pushing a pull-request.\n",
    "\n",
    "**TODO:**  \n",
    "* add missing plots in section [Total image charge (\"Intensity\") resolution for selected images\"](https://forge.in2p3.fr/projects/step-by-step-reference-mars-analysis/wiki#Total-image-charge-Intensity-resolution-for-selected-images)\n",
    "* check for other relevant benchmarks"
   ]
  },
  {
   "cell_type": "markdown",
   "metadata": {},
   "source": [
    "## Imports"
   ]
  },
  {
   "cell_type": "code",
   "execution_count": null,
   "metadata": {},
   "outputs": [],
   "source": [
    "# import tables\n",
    "# import h5py\n",
    "from pathlib import Path\n",
    "import numpy as np\n",
    "import pandas\n",
    "from scipy.stats import binned_statistic, binned_statistic_2d, cumfreq, percentileofscore\n",
    "from astropy import units as u\n",
    "from astropy.table import Table\n",
    "import matplotlib.pyplot as plt\n",
    "from matplotlib.colors import LogNorm\n",
    "from mpl_toolkits.mplot3d import Axes3D\n",
    "\n",
    "from ctapipe.instrument import OpticsDescription\n",
    "from ctapipe.image.hillas import camera_to_shower_coordinates"
   ]
  },
  {
   "cell_type": "markdown",
   "metadata": {},
   "source": [
    "## Functions"
   ]
  },
  {
   "cell_type": "markdown",
   "metadata": {},
   "source": [
    "### Load the base data file or reset it if overwritten"
   ]
  },
  {
   "cell_type": "code",
   "execution_count": null,
   "metadata": {},
   "outputs": [],
   "source": [
    "def load_reset_dl1_pandas(indir = \"./\", fileName = \"dl1_tail_gamma_z20_az180_LaPalma_baseline_run100_withMono.h5\", config=\"test\"):\n",
    "    \"\"\"(Re)load the file containing DL1(a) data and extract the data per telescope type.\"\"\"\n",
    "    # load DL1 images\n",
    "    data_LST = pandas.read_hdf(f\"{indir}/{fileName}\", \"/feature_events_LSTCam\")\n",
    "    data_MST = pandas.read_hdf(f\"{indir}/{fileName}\", \"/feature_events_NectarCam\")\n",
    "    suffix = config # all generated plots will have this as a suffix in their name\n",
    "    return data_LST, data_MST, suffix"
   ]
  },
  {
   "cell_type": "markdown",
   "metadata": {},
   "source": [
    "### DL1 quantities to plot"
   ]
  },
  {
   "cell_type": "code",
   "execution_count": null,
   "metadata": {},
   "outputs": [],
   "source": [
    "def dl1_quantities(data):\n",
    "    \"\"\"A dictionary of the quantities available with this format of DL1 in protopipe.\n",
    "    \n",
    "    WARNING: for the moment protopipe uses one cleaning algorithm (biggest cluster),\n",
    "    even though it allows for two;\n",
    "    this means that all the quantities with the suffix \"_reco\" are the same as those without suffix.\n",
    "    \"\"\"\n",
    "    \n",
    "    dictionary = {\n",
    "\n",
    "            \"Intensity [#phe]\"   : data[\"sum_signal_cam\"], # aka SIZE\n",
    "            \"Width [m]\"          : data[\"width\"],\n",
    "            \"Length [m]\"         : data[\"length\"],\n",
    "            \"Skewness\"           : data[\"skewness\"],\n",
    "            \"Kurtosis\"           : data[\"kurtosis\"],\n",
    "            \"H_max [m]\"          : data[\"h_max\"],\n",
    "            \"n_pixel\"            : data[\"n_pixel\"],\n",
    "            \"Ellipticity\"        : data[\"ellipticity\"],\n",
    "            \"Leakage 1\"          : data[\"leakage_pixels_width_1\"],  # see cta-observatory/protopipe#41\n",
    "            \"psi\"                : data[\"psi_reco\"],\n",
    "            \"cog_x\"              : data[\"cog_x\"],\n",
    "            \"cog_y\"              : data[\"cog_y\"],\n",
    "            \"cog_r\"              : data[\"local_distance_reco\"],\n",
    "        }\n",
    "    \n",
    "    return dictionary"
   ]
  },
  {
   "cell_type": "markdown",
   "metadata": {},
   "source": [
    "### Add statistical information to a plot"
   ]
  },
  {
   "cell_type": "code",
   "execution_count": null,
   "metadata": {},
   "outputs": [],
   "source": [
    "def add_stats(x, ax, x_coord, y_coord):\n",
    "    \"\"\"Add a textbox containing statistical information.\"\"\"\n",
    "    mu = x.mean()\n",
    "    median = np.median(x)\n",
    "    sigma = x.std()\n",
    "    textstr = '\\n'.join((\n",
    "        r'$\\mu=%.2f$' % (mu, ),\n",
    "        r'$\\mathrm{median}=%.2f$' % (median, ),\n",
    "        r'$\\sigma=%.2f$' % (sigma, )))\n",
    "\n",
    "    # these are matplotlib.patch.Patch properties\n",
    "    props = dict(boxstyle='round', facecolor='wheat', alpha=0.5)\n",
    "\n",
    "    # place a text box in upper left in axes coords\n",
    "    ax.text(x_coord, y_coord, \n",
    "            textstr, \n",
    "            transform=ax.transAxes, \n",
    "            fontsize=10,\n",
    "            horizontalalignment='left',\n",
    "            verticalalignment='center', \n",
    "            bbox=props)"
   ]
  },
  {
   "cell_type": "markdown",
   "metadata": {},
   "source": [
    "## Plots"
   ]
  },
  {
   "cell_type": "markdown",
   "metadata": {},
   "source": [
    "First we check if a _plots_ folder exists already.  \n",
    "If not, we create it."
   ]
  },
  {
   "cell_type": "code",
   "execution_count": null,
   "metadata": {},
   "outputs": [],
   "source": [
    "Path(\"./plots_image_cleaning\").mkdir(parents=True, exist_ok=True)"
   ]
  },
  {
   "cell_type": "code",
   "execution_count": null,
   "metadata": {},
   "outputs": [],
   "source": [
    "analysisPath = \"\" # full path of the analysis\n",
    "data_LST, data_MST, config = load_reset_dl1_pandas(indir = f\"{analysisPath}/data/TRAINING/for_energy_estimation\",\n",
    "                                                   fileName = \"TRAINING_energy_tail_gamma_merged.h5\",\n",
    "                                                   config=\"test\")\n",
    "cameras = [\"LSTCam\", \"NectarCam\"]"
   ]
  },
  {
   "cell_type": "code",
   "execution_count": null,
   "metadata": {},
   "outputs": [],
   "source": [
    "# Get DL1 quantities as numpy arrays or pandas.Dataframe columns\n",
    "DL1_LST = dl1_quantities(data_LST)\n",
    "DL1_MST = dl1_quantities(data_MST)\n",
    "DL1 = [DL1_LST, DL1_MST]"
   ]
  },
  {
   "cell_type": "code",
   "execution_count": null,
   "metadata": {},
   "outputs": [],
   "source": [
    "# Transform DL1 dictionaris in pandas DataFrames\n",
    "for camera_index in range(len(cameras)):\n",
    "    DL1[camera_index] = pandas.DataFrame.from_dict(DL1[camera_index])"
   ]
  },
  {
   "cell_type": "markdown",
   "metadata": {},
   "source": [
    "### Image-parameter distributions"
   ]
  },
  {
   "cell_type": "markdown",
   "metadata": {},
   "source": [
    "From [here](https://www.overleaf.com/16933164ghbhvjtchknf) : use all telescope events with; this is not a benchmark, but useful for monitoring (best done in energy bins)"
   ]
  },
  {
   "cell_type": "code",
   "execution_count": null,
   "metadata": {},
   "outputs": [],
   "source": [
    "nbins = 100\n",
    "parameters = [\"Intensity [#phe]\", \"Width [m]\", \"Length [m]\", \"Skewness\", \"Kurtosis\"]\n",
    "\n",
    "fig, axes = plt.subplots(ncols=len(parameters), \n",
    "                         nrows=len(cameras), \n",
    "                         figsize=(15, 10), \n",
    "                         tight_layout=False,\n",
    "                         sharey=\"row\")\n",
    "\n",
    "plt.subplots_adjust(hspace = 0.5 )\n",
    "\n",
    "for camera_index in range(len(cameras)):\n",
    "    \n",
    "    plt.figtext(0.5,0.95 - camera_index*0.95/len(cameras), cameras[camera_index], ha=\"center\", va=\"top\", fontsize=14, color=\"r\")\n",
    "    \n",
    "    for i,key in enumerate(parameters):\n",
    "        \n",
    "        axes[camera_index, 1].set_title(cameras[camera_index])\n",
    "        \n",
    "        axes[camera_index, i].set_ylabel(\"Number of events\")\n",
    "        axes[camera_index, i].set_yscale('log')\n",
    "\n",
    "        if key == \"Intensity [#phe]\":\n",
    "            axes[camera_index, i].set_xlabel(f\"log10({key})\")\n",
    "            add_stats(np.log10(DL1[camera_index][parameters[i]]), axes[camera_index, i], 0.25, 0.25)\n",
    "        else:\n",
    "            axes[camera_index, i].set_xlabel(f\"{key}\")\n",
    "            add_stats(DL1[camera_index][parameters[i]], axes[camera_index, i], 0.25, 0.25)\n",
    "\n",
    "        axes[camera_index, i].hist(np.log10(DL1[camera_index][parameters[i]]), bins=nbins, histtype=\"step\")\n",
    "\n",
    "        axes[camera_index, i].minorticks_on()\n",
    "        axes[camera_index, i].grid()\n",
    "\n",
    "plt.show()\n",
    "fig.savefig(f\"./plots_image_cleaning/{key.split(' ')[0]}_{cameras[camera_index]}_protopipe_{config}.png\")"
   ]
  },
  {
   "cell_type": "code",
   "execution_count": null,
   "metadata": {},
   "outputs": [],
   "source": []
  }
 ],
 "metadata": {
  "kernelspec": {
   "display_name": "Python 3",
   "language": "python",
   "name": "python3"
  },
  "language_info": {
   "codemirror_mode": {
    "name": "ipython",
    "version": 3
   },
   "file_extension": ".py",
   "mimetype": "text/x-python",
   "name": "python",
   "nbconvert_exporter": "python",
   "pygments_lexer": "ipython3",
   "version": "3.7.8"
  }
 },
 "nbformat": 4,
 "nbformat_minor": 4
}
