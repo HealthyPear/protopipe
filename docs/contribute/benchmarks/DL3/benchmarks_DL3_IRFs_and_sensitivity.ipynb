{
 "cells": [
  {
   "cell_type": "code",
   "execution_count": 7,
   "metadata": {},
   "outputs": [
    {
     "data": {
      "text/html": [
       "<script>jQuery(function() {if (jQuery(\"body.notebook_app\").length == 0) { jQuery(\".input_area\").toggle(); jQuery(\".prompt\").toggle();}});</script>"
      ]
     },
     "metadata": {},
     "output_type": "display_data"
    }
   ],
   "source": [
    "# Remove input cells at runtime (nbsphinx)\n",
    "import IPython.core.display as d\n",
    "d.display_html('<script>jQuery(function() {if (jQuery(\"body.notebook_app\").length == 0) { jQuery(\".input_area\").toggle(); jQuery(\".prompt\").toggle();}});</script>', raw=True)"
   ]
  },
  {
   "cell_type": "markdown",
   "metadata": {},
   "source": [
    "# IRFs and sensitivity"
   ]
  },
  {
   "cell_type": "markdown",
   "metadata": {},
   "source": [
    "**WARNING**\n",
    "\n",
    "This is still a work-in-progress, it will evolve with the pipeline comparisons and converge with ctaplot+cta-benchmarks."
   ]
  },
  {
   "cell_type": "markdown",
   "metadata": {},
   "source": [
    "**Author(s):**\n",
    "    \n",
    "- Dr. Michele Peresano (CEA-Saclay/IRFU/DAp/LEPCHE), 2020\n",
    "based on previous work by J. Lefacheur.\n",
    "\n",
    "**Description:**\n",
    "\n",
    "This notebook contains DL3 and benchmarks for the _protopipe_ pipeline. \n",
    "\n",
    "**Notes:**\n",
    "\n",
    "- a more general set of benchmarks is being defined in cta-benchmarks/ctaplot,\n",
    "- follow [this](https://www.overleaf.com/16933164ghbhvjtchknf) document by adding new benchmarks or proposing new ones.\n",
    "\n",
    "**Requirements:**\n",
    "\n",
    "To run this notebook you will need a set of DL2 files produced on the grid with protopipe.\n",
    "The MC production to be used and the appropriate set of files to use for this notebook can be found [here](https://forge.in2p3.fr/projects/step-by-step-reference-mars-analysis/wiki#The-MC-sample ).\n",
    "\n",
    "The data format required to run the notebook is the current one used by _protopipe_ .\n",
    "Later on it will be the same as in _ctapipe_ + _pyirf_.\n",
    "\n",
    "**Development and testing:**  \n",
    "\n",
    "As with any other part of _protopipe_ and being part of the official repository, this notebook can be further developed by any interested contributor.  \n",
    "The execution of this notebook is not currently automatic, it must be done locally by the user - preferably _before_ pushing a pull-request.\n",
    "\n",
    "**TODO:**  \n",
    "* update everything..."
   ]
  },
  {
   "cell_type": "markdown",
   "metadata": {},
   "source": [
    "## Table of contents\n",
    "\n",
    "* [Instrument Response Functions](#Instrument-Response-Functions)\n",
    "* [Sensitivity](#Sensitivity)"
   ]
  },
  {
   "cell_type": "markdown",
   "metadata": {
    "nbsphinx": "hidden"
   },
   "source": [
    "## Imports\n",
    "[back to top](#Table-of-contents)"
   ]
  },
  {
   "cell_type": "code",
   "execution_count": 8,
   "metadata": {},
   "outputs": [],
   "source": [
    "# From the standard library\n",
    "import os\n",
    "from pathlib import Path\n",
    "\n",
    "# From gammapy \n",
    "from gammapy.utils.energy import EnergyBounds\n",
    "from gammapy.irf import EffectiveAreaTable, EnergyDispersion2D \n",
    "from gammapy.spectrum import CrabSpectrum\n",
    "from gammapy.spectrum.models import PowerLaw\n",
    "\n",
    "# From other 3rd-party libraries\n",
    "import matplotlib.pyplot as plt\n",
    "from matplotlib import gridspec\n",
    "import numpy as np\n",
    "import astropy.units as u\n",
    "from astropy.io import fits\n",
    "from astropy.table import Table, Column"
   ]
  },
  {
   "cell_type": "markdown",
   "metadata": {
    "nbsphinx": "hidden"
   },
   "source": [
    "## Functions\n",
    "[back to top](#Table-of-contents)"
   ]
  },
  {
   "cell_type": "code",
   "execution_count": 9,
   "metadata": {},
   "outputs": [],
   "source": [
    "def get_performance(filename):\n",
    "    \"\"\"Load IRF, use Gammapy capabilities to handle the miragtion matrix\"\"\"\n",
    "    with fits.open(filename, memmap=False) as hdulist:\n",
    "        aeff = EffectiveAreaTable.from_hdulist(hdulist=hdulist).to_table()\n",
    "        bkg = Table.read(hdulist[\"BACKGROUND\"])\n",
    "        psf = Table.read(hdulist[\"POINT SPREAD FUNCTION\"])\n",
    "        sens = Table.read(hdulist[\"SENSITIVITY\"])\n",
    "        edisp = EnergyDispersion2D.read(filename, hdu=\"ENERGY DISPERSION\")\n",
    "        rmf = edisp.to_energy_dispersion(offset=0.5 * u.deg)  # Projection of migration matrix, dummy angle...\n",
    "        \n",
    "        try:  # Collection area without score/angular cut\n",
    "            aeff_no_cuts = Table.read(hdulist[\"SPECRESP (NO CUTS)\"])\n",
    "            aeff_angular_cut = Table.read(hdulist[\"SPECRESP (WITH ANGULAR CUT)\"])\n",
    "            aeff_score_cut = Table.read(hdulist[\"SPECRESP (WITH SCORE CUT)\"])\n",
    "\n",
    "            aeff_no_cuts.columns['SPECRESP (NO CUTS)'].name = 'SPECRESP'\n",
    "            aeff_angular_cut[\"SPECRESP (WITH ANGULAR CUT)\"].name = 'SPECRESP'\n",
    "            aeff_score_cut[\"SPECRESP (WITH SCORE CUT)\"].name = 'SPECRESP'\n",
    "        except:\n",
    "            pass\n",
    "    \n",
    "    # Collection area without score/angular cut, that will be used to contain the IRF\n",
    "    perf = dict(aeff= aeff, bkg= bkg, psf= psf, rmf=rmf, sens=sens, edisp=edisp)\n",
    "\n",
    "    try:\n",
    "        perf['aeff_no_cuts'] = aeff_no_cuts\n",
    "        perf['aeff_angular_cut'] = aeff_angular_cut\n",
    "        perf['aeff_score_cut'] = aeff_score_cut\n",
    "    except:\n",
    "        pass\n",
    "    \n",
    "    return perf\n",
    "\n",
    "def plot_irf(axes, perf, energy_range, label=None, **kwargs):\n",
    "    \"\"\"Plot IRFs, take a list of axes (len=4)\"\"\"\n",
    "    plot_table(axes[0], perf['bkg'], 'BGD', label, energy_range, **kwargs)\n",
    "    plot_table(axes[1], perf['aeff'], 'SPECRESP', label, energy_range, **kwargs)\n",
    "    plot_table(axes[2], perf['psf'], 'PSF68', label, energy_range, **kwargs)\n",
    "    plot_energy_response(axes[3], perf['rmf'], label, energy_range, **kwargs)\n",
    "    \n",
    "    axes[0].set_xlabel('Reco energy [TeV]')\n",
    "    axes[0].set_ylabel('Background rate [Hz]')\n",
    "    axes[0].set_yscale('log')\n",
    "\n",
    "    axes[1].set_xlabel('True energy [TeV]')\n",
    "    axes[1].set_ylabel('Effective area [m2]')\n",
    "    axes[1].set_yscale('log')\n",
    "    \n",
    "    axes[2].set_xlabel('Reco energy [TeV]')\n",
    "    axes[2].set_ylabel('Point spread function (68%) [deg]')\n",
    "    axes[2].set_ylim([0., 0.5]) # dft 0.5\n",
    "\n",
    "    axes[3].set_xlabel('True energy [TeV]')\n",
    "    axes[3].set_ylabel('Energy dispersion [%]')\n",
    "    axes[3].set_ylim([-0.05, 0.85])\n",
    "    \n",
    "    plt.tight_layout()\n",
    "\n",
    "def plot_sensitivity_comparison(list_perf, list_label, list_color, list_erange, perf_ref, config, title, figsize=(10, 10)):\n",
    "    \"\"\"Superpose a list of sensitivity and make a residual plot\"\"\"\n",
    "    fig = plt.figure(figsize=figsize)\n",
    "    gs = gridspec.GridSpec(5, 1, hspace=0.05)\n",
    "    #ax_sens = plt.subplot(gs[:-1, :])\n",
    "    ax_sens = plt.subplot(gs[:-2, :])\n",
    "    #ax_res = plt.subplot(gs[4, :])\n",
    "    ax_res = plt.subplot(gs[-2:, :])\n",
    "    \n",
    "    sens_list = [perf[config]['sens'] for perf in list_perf]\n",
    "    \n",
    "    for idx, sensi in enumerate(sens_list):\n",
    "        plot_sensitivity(\n",
    "            ax_sens,\n",
    "            sensi,\n",
    "            list_label[idx],\n",
    "            list_erange[idx],\n",
    "            **{'color': list_color[idx], 'lw': 2}\n",
    "        )        \n",
    "    \n",
    "    emin = perf_ref[config]['sens']['ENERG_LO'][0]\n",
    "    emax = perf_ref[config]['sens']['ENERG_HI'][-1]\n",
    "    sens_list = []\n",
    "    for perf in list_perf:\n",
    "        sens_table = perf[config]['sens']\n",
    "        new_t = sens_table[(sens_table['ENERG_LO'] >= 0.99 * emin) & (sens_table['ENERG_HI'] <= 1.01 * emax)]\n",
    "        sens_list.append(new_t)\n",
    "    \n",
    "    for idx, sensi in enumerate(sens_list):\n",
    "        \n",
    "        plot_sensitivity_residuals(\n",
    "            ax_res,\n",
    "            sensi,\n",
    "            perf_ref[config]['sens'],\n",
    "            **{'color': list_color[idx], 'lw': 2}\n",
    "        )\n",
    "    \n",
    "    for frac in [0.001, 0.01, 0.1, 1, 10, 100]:\n",
    "        plot_crab(ax_sens, frac)\n",
    "    \n",
    "    sens_min =[sensi['SENSITIVITY'].min() for sensi in sens_list]\n",
    "    sens_min = min(sens_min)\n",
    "    \n",
    "    sens_max =[sensi['SENSITIVITY'].max() for sensi in sens_list]\n",
    "    sens_max = max(sens_max)\n",
    "    \n",
    "    ax_sens.set_xlim([0.02, 200])\n",
    "    ax_sens.set_ylim([sens_min * 0.5, sens_max * 5])\n",
    "    ax_sens.legend(loc='upper right', fontsize='large')\n",
    "    ax_sens.set_xlabel('')\n",
    "    ax_sens.set_xticklabels([])\n",
    "    ax_sens.grid()\n",
    "    ax_sens.loglog()\n",
    "    ax_sens.set_ylabel('Sensitivity [erg / (cm2 s)]')\n",
    "\n",
    "    ax_res.plot([-1e9, 1e9], [0., 0.], **{'color': 'darkgreen', 'lw': 2})\n",
    "    ax_res.grid()\n",
    "    ax_res.set_xscale('log')\n",
    "    ax_res.set_ylabel('Betterness')\n",
    "    ax_res.set_xlabel('Reco energy [TeV]')\n",
    "    ax_res.set_xlim([0.02, 12.5])\n",
    "    ax_res.set_ylim([-1, 1])\n",
    "\n",
    "    ## Text for sensitivity\n",
    "    text = \"Obs. time: {}\\n\".format(config)\n",
    "    text += \"$\\\\alpha$=0.2 and $\\\\sigma$=5\\n\"\n",
    "    text += \"Syst$_{BKG}$=5% and $\\\\gamma_{min}$=10\"\n",
    "    ax_sens.text(\n",
    "            0.1, 0.8 , text,\n",
    "            horizontalalignment='left',\n",
    "            verticalalignment='bottom',\n",
    "            multialignment='left',\n",
    "            bbox=dict(facecolor='white', alpha=1),\n",
    "            fontsize='large',\n",
    "            transform=ax_sens.transAxes\n",
    "    )\n",
    "    \n",
    "    ax_sens.set_title(title, fontweight='bold')\n",
    "    gs.tight_layout(fig)\n",
    "    return ax_sens, ax_res\n",
    "    \n",
    "def plot_table(ax, t, colname, label, energy_range, **kwargs):\n",
    "    \"\"\"Simple function to plot an astropy table\"\"\"\n",
    "    centers = np.sqrt(t['ENERG_LO'] * t['ENERG_HI'])\n",
    "    bin_width = t['ENERG_HI'] - t['ENERG_LO']\n",
    "    err_plus = t['ENERG_HI'] - centers\n",
    "    err_minus = centers - t['ENERG_LO']\n",
    "    values = t[colname]\n",
    "    \n",
    "    # Selection bins in the energy range\n",
    "    idx = np.where( (centers >= energy_range[0]) & (centers <= energy_range[-1]) )\n",
    "    ax.errorbar(centers[idx], values[idx], xerr=(err_minus[idx],err_plus[idx]), label=label, **kwargs)\n",
    "    \n",
    "    return ax\n",
    "\n",
    "def plot_energy_response(ax, rmf, label, energy_range, **kwargs):\n",
    "    \"\"\"Simple function to plot the energy resolution (Gammapy)\"\"\"\n",
    "    energy = rmf.e_true.nodes\n",
    "    bias = rmf.get_bias(energy)\n",
    "    resol = rmf.get_resolution(energy)\n",
    "    \n",
    "    idx = np.where( (energy.value >= energy_range[0]) & (energy.value <= energy_range[-1]) )\n",
    "    \n",
    "    ax.errorbar(energy.value[idx], bias[idx], **kwargs, ls='--')\n",
    "    ax.errorbar(energy.value[idx], resol[idx], label=label, **kwargs, ls='-')\n",
    "    return ax\n",
    "\n",
    "def plot_sensitivity(ax, t, label, energy_range, **kwargs):\n",
    "    plot_table(ax, t, 'SENSITIVITY', label, energy_range, **kwargs)\n",
    "    return ax\n",
    "\n",
    "def plot_sensitivity_residuals(ax, table_sens, table_ref,**kwargs):\n",
    "    emin = table_ref['ENERG_LO'][0]\n",
    "    emax = table_ref['ENERG_HI'][-1]\n",
    "    t = table_sens[(table_sens['ENERG_LO'] >= 0.99 * emin) & (table_sens['ENERG_HI'] <= 1.01 * emax)]\n",
    "    \n",
    "    t_ratio = Table()\n",
    "    t_ratio['ENERG_LO'] = t['ENERG_LO'].data\n",
    "    t_ratio['ENERG_HI'] = t['ENERG_HI'].data\n",
    "    t_ratio['RATIO'] = (1. - (t['SENSITIVITY'] / table_ref['SENSITIVITY']))\n",
    "    \n",
    "    plot_table(ax=ax, t=t_ratio, colname='RATIO', label=None, energy_range=[0.01, 300.], **kwargs)\n",
    "    return ax\n",
    "\n",
    "def plot_crab(ax, fraction):\n",
    "    \"\"\"Plot Crab spectra\"\"\"\n",
    "    crab_model = CrabSpectrum('hegra').model\n",
    "    reference = 1 * u.TeV\n",
    "    amplitude = crab_model(energy=reference) * fraction\n",
    "    index = CrabSpectrum('hegra').model.parameters['index'].value\n",
    "    energy = np.logspace(-3, 3, 100) * u.TeV\n",
    "    flux = PowerLaw(amplitude=amplitude, reference=reference, index=index)(energy)\n",
    "    e2flux = (flux * energy **2) * u.TeV.to('erg')\n",
    "    ax.plot(energy.value, e2flux.value, ls='--', lw=2, color='grey', alpha=0.5)"
   ]
  },
  {
   "cell_type": "markdown",
   "metadata": {
    "nbsphinx": "hidden"
   },
   "source": [
    "## Load\n",
    "[back to top](#Table-of-contents)"
   ]
  },
  {
   "cell_type": "code",
   "execution_count": 10,
   "metadata": {},
   "outputs": [],
   "source": [
    "# First we check if a _plots_ folder exists already.  \n",
    "# If not, we create it.\n",
    "Path(\"./plots\").mkdir(parents=True, exist_ok=True)"
   ]
  },
  {
   "cell_type": "code",
   "execution_count": 11,
   "metadata": {},
   "outputs": [],
   "source": [
    "# Settings for the analysis results\n",
    "obs_time = '50h'\n",
    "site = \"North\"\n",
    "array = 'full_array'\n",
    "zenith = '20'\n",
    "azimuth = '180'"
   ]
  },
  {
   "cell_type": "markdown",
   "metadata": {
    "nbsphinx": "hidden"
   },
   "source": [
    "### protopipe performance\n",
    "[back to top](#Table-of-contents)"
   ]
  },
  {
   "cell_type": "code",
   "execution_count": 12,
   "metadata": {},
   "outputs": [
    {
     "ename": "FileNotFoundError",
     "evalue": "[Errno 2] No such file or directory: '/Volumes/DataCEA_PERESANO/Data/CTA/analyses//shared_folder/analyses/v0.3.0/data/DL3/irf_tail_ThSq_opti_Time100.00s/irf.fits.gz'",
     "output_type": "error",
     "traceback": [
      "\u001b[0;31m---------------------------------------------------------------------------\u001b[0m",
      "\u001b[0;31mFileNotFoundError\u001b[0m                         Traceback (most recent call last)",
      "\u001b[0;32m<ipython-input-12-47b5c349389d>\u001b[0m in \u001b[0;36m<module>\u001b[0;34m\u001b[0m\n\u001b[1;32m     13\u001b[0m \u001b[0mperf_v030\u001b[0m \u001b[0;34m=\u001b[0m \u001b[0mdict\u001b[0m\u001b[0;34m(\u001b[0m\u001b[0;34m)\u001b[0m\u001b[0;34m\u001b[0m\u001b[0;34m\u001b[0m\u001b[0m\n\u001b[1;32m     14\u001b[0m \u001b[0;32mfor\u001b[0m \u001b[0mkey\u001b[0m \u001b[0;32min\u001b[0m \u001b[0mfilenames\u001b[0m\u001b[0;34m.\u001b[0m\u001b[0mkeys\u001b[0m\u001b[0;34m(\u001b[0m\u001b[0;34m)\u001b[0m\u001b[0;34m:\u001b[0m\u001b[0;34m\u001b[0m\u001b[0;34m\u001b[0m\u001b[0m\n\u001b[0;32m---> 15\u001b[0;31m     \u001b[0mperf_v030\u001b[0m\u001b[0;34m[\u001b[0m\u001b[0mkey\u001b[0m\u001b[0;34m]\u001b[0m \u001b[0;34m=\u001b[0m \u001b[0mget_performance\u001b[0m\u001b[0;34m(\u001b[0m\u001b[0mos\u001b[0m\u001b[0;34m.\u001b[0m\u001b[0mpath\u001b[0m\u001b[0;34m.\u001b[0m\u001b[0mjoin\u001b[0m\u001b[0;34m(\u001b[0m\u001b[0mindir\u001b[0m\u001b[0;34m,\u001b[0m \u001b[0mfilenames\u001b[0m\u001b[0;34m[\u001b[0m\u001b[0mkey\u001b[0m\u001b[0;34m]\u001b[0m\u001b[0;34m)\u001b[0m\u001b[0;34m)\u001b[0m\u001b[0;34m\u001b[0m\u001b[0;34m\u001b[0m\u001b[0m\n\u001b[0m",
      "\u001b[0;32m<ipython-input-9-ed0264a1ac1b>\u001b[0m in \u001b[0;36mget_performance\u001b[0;34m(filename)\u001b[0m\n\u001b[1;32m      1\u001b[0m \u001b[0;32mdef\u001b[0m \u001b[0mget_performance\u001b[0m\u001b[0;34m(\u001b[0m\u001b[0mfilename\u001b[0m\u001b[0;34m)\u001b[0m\u001b[0;34m:\u001b[0m\u001b[0;34m\u001b[0m\u001b[0;34m\u001b[0m\u001b[0m\n\u001b[1;32m      2\u001b[0m     \u001b[0;34m\"\"\"Load IRF, use Gammapy capabilities to handle the miragtion matrix\"\"\"\u001b[0m\u001b[0;34m\u001b[0m\u001b[0;34m\u001b[0m\u001b[0m\n\u001b[0;32m----> 3\u001b[0;31m     \u001b[0;32mwith\u001b[0m \u001b[0mfits\u001b[0m\u001b[0;34m.\u001b[0m\u001b[0mopen\u001b[0m\u001b[0;34m(\u001b[0m\u001b[0mfilename\u001b[0m\u001b[0;34m,\u001b[0m \u001b[0mmemmap\u001b[0m\u001b[0;34m=\u001b[0m\u001b[0;32mFalse\u001b[0m\u001b[0;34m)\u001b[0m \u001b[0;32mas\u001b[0m \u001b[0mhdulist\u001b[0m\u001b[0;34m:\u001b[0m\u001b[0;34m\u001b[0m\u001b[0;34m\u001b[0m\u001b[0m\n\u001b[0m\u001b[1;32m      4\u001b[0m         \u001b[0maeff\u001b[0m \u001b[0;34m=\u001b[0m \u001b[0mEffectiveAreaTable\u001b[0m\u001b[0;34m.\u001b[0m\u001b[0mfrom_hdulist\u001b[0m\u001b[0;34m(\u001b[0m\u001b[0mhdulist\u001b[0m\u001b[0;34m=\u001b[0m\u001b[0mhdulist\u001b[0m\u001b[0;34m)\u001b[0m\u001b[0;34m.\u001b[0m\u001b[0mto_table\u001b[0m\u001b[0;34m(\u001b[0m\u001b[0;34m)\u001b[0m\u001b[0;34m\u001b[0m\u001b[0;34m\u001b[0m\u001b[0m\n\u001b[1;32m      5\u001b[0m         \u001b[0mbkg\u001b[0m \u001b[0;34m=\u001b[0m \u001b[0mTable\u001b[0m\u001b[0;34m.\u001b[0m\u001b[0mread\u001b[0m\u001b[0;34m(\u001b[0m\u001b[0mhdulist\u001b[0m\u001b[0;34m[\u001b[0m\u001b[0;34m\"BACKGROUND\"\u001b[0m\u001b[0;34m]\u001b[0m\u001b[0;34m)\u001b[0m\u001b[0;34m\u001b[0m\u001b[0;34m\u001b[0m\u001b[0m\n",
      "\u001b[0;32m~/Applications/miniconda3/envs/protopipe/lib/python3.7/site-packages/astropy/io/fits/hdu/hdulist.py\u001b[0m in \u001b[0;36mfitsopen\u001b[0;34m(name, mode, memmap, save_backup, cache, lazy_load_hdus, **kwargs)\u001b[0m\n\u001b[1;32m    162\u001b[0m \u001b[0;34m\u001b[0m\u001b[0m\n\u001b[1;32m    163\u001b[0m     return HDUList.fromfile(name, mode, memmap, save_backup, cache,\n\u001b[0;32m--> 164\u001b[0;31m                             lazy_load_hdus, **kwargs)\n\u001b[0m\u001b[1;32m    165\u001b[0m \u001b[0;34m\u001b[0m\u001b[0m\n\u001b[1;32m    166\u001b[0m \u001b[0;34m\u001b[0m\u001b[0m\n",
      "\u001b[0;32m~/Applications/miniconda3/envs/protopipe/lib/python3.7/site-packages/astropy/io/fits/hdu/hdulist.py\u001b[0m in \u001b[0;36mfromfile\u001b[0;34m(cls, fileobj, mode, memmap, save_backup, cache, lazy_load_hdus, **kwargs)\u001b[0m\n\u001b[1;32m    400\u001b[0m         return cls._readfrom(fileobj=fileobj, mode=mode, memmap=memmap,\n\u001b[1;32m    401\u001b[0m                              \u001b[0msave_backup\u001b[0m\u001b[0;34m=\u001b[0m\u001b[0msave_backup\u001b[0m\u001b[0;34m,\u001b[0m \u001b[0mcache\u001b[0m\u001b[0;34m=\u001b[0m\u001b[0mcache\u001b[0m\u001b[0;34m,\u001b[0m\u001b[0;34m\u001b[0m\u001b[0;34m\u001b[0m\u001b[0m\n\u001b[0;32m--> 402\u001b[0;31m                              lazy_load_hdus=lazy_load_hdus, **kwargs)\n\u001b[0m\u001b[1;32m    403\u001b[0m \u001b[0;34m\u001b[0m\u001b[0m\n\u001b[1;32m    404\u001b[0m     \u001b[0;34m@\u001b[0m\u001b[0mclassmethod\u001b[0m\u001b[0;34m\u001b[0m\u001b[0;34m\u001b[0m\u001b[0m\n",
      "\u001b[0;32m~/Applications/miniconda3/envs/protopipe/lib/python3.7/site-packages/astropy/io/fits/hdu/hdulist.py\u001b[0m in \u001b[0;36m_readfrom\u001b[0;34m(cls, fileobj, data, mode, memmap, cache, lazy_load_hdus, **kwargs)\u001b[0m\n\u001b[1;32m   1049\u001b[0m             \u001b[0;32mif\u001b[0m \u001b[0;32mnot\u001b[0m \u001b[0misinstance\u001b[0m\u001b[0;34m(\u001b[0m\u001b[0mfileobj\u001b[0m\u001b[0;34m,\u001b[0m \u001b[0m_File\u001b[0m\u001b[0;34m)\u001b[0m\u001b[0;34m:\u001b[0m\u001b[0;34m\u001b[0m\u001b[0;34m\u001b[0m\u001b[0m\n\u001b[1;32m   1050\u001b[0m                 \u001b[0;31m# instantiate a FITS file object (ffo)\u001b[0m\u001b[0;34m\u001b[0m\u001b[0;34m\u001b[0m\u001b[0;34m\u001b[0m\u001b[0m\n\u001b[0;32m-> 1051\u001b[0;31m                 \u001b[0mfileobj\u001b[0m \u001b[0;34m=\u001b[0m \u001b[0m_File\u001b[0m\u001b[0;34m(\u001b[0m\u001b[0mfileobj\u001b[0m\u001b[0;34m,\u001b[0m \u001b[0mmode\u001b[0m\u001b[0;34m=\u001b[0m\u001b[0mmode\u001b[0m\u001b[0;34m,\u001b[0m \u001b[0mmemmap\u001b[0m\u001b[0;34m=\u001b[0m\u001b[0mmemmap\u001b[0m\u001b[0;34m,\u001b[0m \u001b[0mcache\u001b[0m\u001b[0;34m=\u001b[0m\u001b[0mcache\u001b[0m\u001b[0;34m)\u001b[0m\u001b[0;34m\u001b[0m\u001b[0;34m\u001b[0m\u001b[0m\n\u001b[0m\u001b[1;32m   1052\u001b[0m             \u001b[0;31m# The Astropy mode is determined by the _File initializer if the\u001b[0m\u001b[0;34m\u001b[0m\u001b[0;34m\u001b[0m\u001b[0;34m\u001b[0m\u001b[0m\n\u001b[1;32m   1053\u001b[0m             \u001b[0;31m# supplied mode was None\u001b[0m\u001b[0;34m\u001b[0m\u001b[0;34m\u001b[0m\u001b[0;34m\u001b[0m\u001b[0m\n",
      "\u001b[0;32m~/Applications/miniconda3/envs/protopipe/lib/python3.7/site-packages/astropy/utils/decorators.py\u001b[0m in \u001b[0;36mwrapper\u001b[0;34m(*args, **kwargs)\u001b[0m\n\u001b[1;32m    533\u001b[0m                     \u001b[0mwarnings\u001b[0m\u001b[0;34m.\u001b[0m\u001b[0mwarn\u001b[0m\u001b[0;34m(\u001b[0m\u001b[0mmessage\u001b[0m\u001b[0;34m,\u001b[0m \u001b[0mwarning_type\u001b[0m\u001b[0;34m,\u001b[0m \u001b[0mstacklevel\u001b[0m\u001b[0;34m=\u001b[0m\u001b[0;36m2\u001b[0m\u001b[0;34m)\u001b[0m\u001b[0;34m\u001b[0m\u001b[0;34m\u001b[0m\u001b[0m\n\u001b[1;32m    534\u001b[0m \u001b[0;34m\u001b[0m\u001b[0m\n\u001b[0;32m--> 535\u001b[0;31m             \u001b[0;32mreturn\u001b[0m \u001b[0mfunction\u001b[0m\u001b[0;34m(\u001b[0m\u001b[0;34m*\u001b[0m\u001b[0margs\u001b[0m\u001b[0;34m,\u001b[0m \u001b[0;34m**\u001b[0m\u001b[0mkwargs\u001b[0m\u001b[0;34m)\u001b[0m\u001b[0;34m\u001b[0m\u001b[0;34m\u001b[0m\u001b[0m\n\u001b[0m\u001b[1;32m    536\u001b[0m \u001b[0;34m\u001b[0m\u001b[0m\n\u001b[1;32m    537\u001b[0m         \u001b[0;32mreturn\u001b[0m \u001b[0mwrapper\u001b[0m\u001b[0;34m\u001b[0m\u001b[0;34m\u001b[0m\u001b[0m\n",
      "\u001b[0;32m~/Applications/miniconda3/envs/protopipe/lib/python3.7/site-packages/astropy/io/fits/file.py\u001b[0m in \u001b[0;36m__init__\u001b[0;34m(self, fileobj, mode, memmap, overwrite, cache)\u001b[0m\n\u001b[1;32m    173\u001b[0m             \u001b[0mself\u001b[0m\u001b[0;34m.\u001b[0m\u001b[0m_open_fileobj\u001b[0m\u001b[0;34m(\u001b[0m\u001b[0mfileobj\u001b[0m\u001b[0;34m,\u001b[0m \u001b[0mmode\u001b[0m\u001b[0;34m,\u001b[0m \u001b[0moverwrite\u001b[0m\u001b[0;34m)\u001b[0m\u001b[0;34m\u001b[0m\u001b[0;34m\u001b[0m\u001b[0m\n\u001b[1;32m    174\u001b[0m         \u001b[0;32melif\u001b[0m \u001b[0misinstance\u001b[0m\u001b[0;34m(\u001b[0m\u001b[0mfileobj\u001b[0m\u001b[0;34m,\u001b[0m \u001b[0;34m(\u001b[0m\u001b[0mstr\u001b[0m\u001b[0;34m,\u001b[0m \u001b[0mbytes\u001b[0m\u001b[0;34m)\u001b[0m\u001b[0;34m)\u001b[0m\u001b[0;34m:\u001b[0m\u001b[0;34m\u001b[0m\u001b[0;34m\u001b[0m\u001b[0m\n\u001b[0;32m--> 175\u001b[0;31m             \u001b[0mself\u001b[0m\u001b[0;34m.\u001b[0m\u001b[0m_open_filename\u001b[0m\u001b[0;34m(\u001b[0m\u001b[0mfileobj\u001b[0m\u001b[0;34m,\u001b[0m \u001b[0mmode\u001b[0m\u001b[0;34m,\u001b[0m \u001b[0moverwrite\u001b[0m\u001b[0;34m)\u001b[0m\u001b[0;34m\u001b[0m\u001b[0;34m\u001b[0m\u001b[0m\n\u001b[0m\u001b[1;32m    176\u001b[0m         \u001b[0;32melse\u001b[0m\u001b[0;34m:\u001b[0m\u001b[0;34m\u001b[0m\u001b[0;34m\u001b[0m\u001b[0m\n\u001b[1;32m    177\u001b[0m             \u001b[0mself\u001b[0m\u001b[0;34m.\u001b[0m\u001b[0m_open_filelike\u001b[0m\u001b[0;34m(\u001b[0m\u001b[0mfileobj\u001b[0m\u001b[0;34m,\u001b[0m \u001b[0mmode\u001b[0m\u001b[0;34m,\u001b[0m \u001b[0moverwrite\u001b[0m\u001b[0;34m)\u001b[0m\u001b[0;34m\u001b[0m\u001b[0;34m\u001b[0m\u001b[0m\n",
      "\u001b[0;32m~/Applications/miniconda3/envs/protopipe/lib/python3.7/site-packages/astropy/io/fits/file.py\u001b[0m in \u001b[0;36m_open_filename\u001b[0;34m(self, filename, mode, overwrite)\u001b[0m\n\u001b[1;32m    561\u001b[0m         \u001b[0mext\u001b[0m \u001b[0;34m=\u001b[0m \u001b[0mos\u001b[0m\u001b[0;34m.\u001b[0m\u001b[0mpath\u001b[0m\u001b[0;34m.\u001b[0m\u001b[0msplitext\u001b[0m\u001b[0;34m(\u001b[0m\u001b[0mself\u001b[0m\u001b[0;34m.\u001b[0m\u001b[0mname\u001b[0m\u001b[0;34m)\u001b[0m\u001b[0;34m[\u001b[0m\u001b[0;36m1\u001b[0m\u001b[0;34m]\u001b[0m\u001b[0;34m\u001b[0m\u001b[0;34m\u001b[0m\u001b[0m\n\u001b[1;32m    562\u001b[0m \u001b[0;34m\u001b[0m\u001b[0m\n\u001b[0;32m--> 563\u001b[0;31m         \u001b[0;32mif\u001b[0m \u001b[0;32mnot\u001b[0m \u001b[0mself\u001b[0m\u001b[0;34m.\u001b[0m\u001b[0m_try_read_compressed\u001b[0m\u001b[0;34m(\u001b[0m\u001b[0mself\u001b[0m\u001b[0;34m.\u001b[0m\u001b[0mname\u001b[0m\u001b[0;34m,\u001b[0m \u001b[0mmagic\u001b[0m\u001b[0;34m,\u001b[0m \u001b[0mmode\u001b[0m\u001b[0;34m,\u001b[0m \u001b[0mext\u001b[0m\u001b[0;34m=\u001b[0m\u001b[0mext\u001b[0m\u001b[0;34m)\u001b[0m\u001b[0;34m:\u001b[0m\u001b[0;34m\u001b[0m\u001b[0;34m\u001b[0m\u001b[0m\n\u001b[0m\u001b[1;32m    564\u001b[0m             \u001b[0mself\u001b[0m\u001b[0;34m.\u001b[0m\u001b[0m_file\u001b[0m \u001b[0;34m=\u001b[0m \u001b[0mfileobj_open\u001b[0m\u001b[0;34m(\u001b[0m\u001b[0mself\u001b[0m\u001b[0;34m.\u001b[0m\u001b[0mname\u001b[0m\u001b[0;34m,\u001b[0m \u001b[0mIO_FITS_MODES\u001b[0m\u001b[0;34m[\u001b[0m\u001b[0mmode\u001b[0m\u001b[0;34m]\u001b[0m\u001b[0;34m)\u001b[0m\u001b[0;34m\u001b[0m\u001b[0;34m\u001b[0m\u001b[0m\n\u001b[1;32m    565\u001b[0m             \u001b[0mself\u001b[0m\u001b[0;34m.\u001b[0m\u001b[0mclose_on_error\u001b[0m \u001b[0;34m=\u001b[0m \u001b[0;32mTrue\u001b[0m\u001b[0;34m\u001b[0m\u001b[0;34m\u001b[0m\u001b[0m\n",
      "\u001b[0;32m~/Applications/miniconda3/envs/protopipe/lib/python3.7/site-packages/astropy/io/fits/file.py\u001b[0m in \u001b[0;36m_try_read_compressed\u001b[0;34m(self, obj_or_name, magic, mode, ext)\u001b[0m\n\u001b[1;32m    455\u001b[0m             \u001b[0;32melse\u001b[0m\u001b[0;34m:\u001b[0m\u001b[0;34m\u001b[0m\u001b[0;34m\u001b[0m\u001b[0m\n\u001b[1;32m    456\u001b[0m                 \u001b[0mkwargs\u001b[0m\u001b[0;34m[\u001b[0m\u001b[0;34m'fileobj'\u001b[0m\u001b[0;34m]\u001b[0m \u001b[0;34m=\u001b[0m \u001b[0mobj_or_name\u001b[0m\u001b[0;34m\u001b[0m\u001b[0;34m\u001b[0m\u001b[0m\n\u001b[0;32m--> 457\u001b[0;31m             \u001b[0mself\u001b[0m\u001b[0;34m.\u001b[0m\u001b[0m_file\u001b[0m \u001b[0;34m=\u001b[0m \u001b[0mgzip\u001b[0m\u001b[0;34m.\u001b[0m\u001b[0mGzipFile\u001b[0m\u001b[0;34m(\u001b[0m\u001b[0;34m**\u001b[0m\u001b[0mkwargs\u001b[0m\u001b[0;34m)\u001b[0m\u001b[0;34m\u001b[0m\u001b[0;34m\u001b[0m\u001b[0m\n\u001b[0m\u001b[1;32m    458\u001b[0m             \u001b[0mself\u001b[0m\u001b[0;34m.\u001b[0m\u001b[0mcompression\u001b[0m \u001b[0;34m=\u001b[0m \u001b[0;34m'gzip'\u001b[0m\u001b[0;34m\u001b[0m\u001b[0;34m\u001b[0m\u001b[0m\n\u001b[1;32m    459\u001b[0m         \u001b[0;32melif\u001b[0m \u001b[0mext\u001b[0m \u001b[0;34m==\u001b[0m \u001b[0;34m'.zip'\u001b[0m \u001b[0;32mor\u001b[0m \u001b[0mmagic\u001b[0m\u001b[0;34m.\u001b[0m\u001b[0mstartswith\u001b[0m\u001b[0;34m(\u001b[0m\u001b[0mPKZIP_MAGIC\u001b[0m\u001b[0;34m)\u001b[0m\u001b[0;34m:\u001b[0m\u001b[0;34m\u001b[0m\u001b[0;34m\u001b[0m\u001b[0m\n",
      "\u001b[0;32m~/Applications/miniconda3/envs/protopipe/lib/python3.7/gzip.py\u001b[0m in \u001b[0;36m__init__\u001b[0;34m(self, filename, mode, compresslevel, fileobj, mtime)\u001b[0m\n\u001b[1;32m    166\u001b[0m             \u001b[0mmode\u001b[0m \u001b[0;34m+=\u001b[0m \u001b[0;34m'b'\u001b[0m\u001b[0;34m\u001b[0m\u001b[0;34m\u001b[0m\u001b[0m\n\u001b[1;32m    167\u001b[0m         \u001b[0;32mif\u001b[0m \u001b[0mfileobj\u001b[0m \u001b[0;32mis\u001b[0m \u001b[0;32mNone\u001b[0m\u001b[0;34m:\u001b[0m\u001b[0;34m\u001b[0m\u001b[0;34m\u001b[0m\u001b[0m\n\u001b[0;32m--> 168\u001b[0;31m             \u001b[0mfileobj\u001b[0m \u001b[0;34m=\u001b[0m \u001b[0mself\u001b[0m\u001b[0;34m.\u001b[0m\u001b[0mmyfileobj\u001b[0m \u001b[0;34m=\u001b[0m \u001b[0mbuiltins\u001b[0m\u001b[0;34m.\u001b[0m\u001b[0mopen\u001b[0m\u001b[0;34m(\u001b[0m\u001b[0mfilename\u001b[0m\u001b[0;34m,\u001b[0m \u001b[0mmode\u001b[0m \u001b[0;32mor\u001b[0m \u001b[0;34m'rb'\u001b[0m\u001b[0;34m)\u001b[0m\u001b[0;34m\u001b[0m\u001b[0;34m\u001b[0m\u001b[0m\n\u001b[0m\u001b[1;32m    169\u001b[0m         \u001b[0;32mif\u001b[0m \u001b[0mfilename\u001b[0m \u001b[0;32mis\u001b[0m \u001b[0;32mNone\u001b[0m\u001b[0;34m:\u001b[0m\u001b[0;34m\u001b[0m\u001b[0;34m\u001b[0m\u001b[0m\n\u001b[1;32m    170\u001b[0m             \u001b[0mfilename\u001b[0m \u001b[0;34m=\u001b[0m \u001b[0mgetattr\u001b[0m\u001b[0;34m(\u001b[0m\u001b[0mfileobj\u001b[0m\u001b[0;34m,\u001b[0m \u001b[0;34m'name'\u001b[0m\u001b[0;34m,\u001b[0m \u001b[0;34m''\u001b[0m\u001b[0;34m)\u001b[0m\u001b[0;34m\u001b[0m\u001b[0;34m\u001b[0m\u001b[0m\n",
      "\u001b[0;31mFileNotFoundError\u001b[0m: [Errno 2] No such file or directory: '/Volumes/DataCEA_PERESANO/Data/CTA/analyses//shared_folder/analyses/v0.3.0/data/DL3/irf_tail_ThSq_opti_Time100.00s/irf.fits.gz'"
     ]
    }
   ],
   "source": [
    "parentDir = \"/Volumes/DataCEA_PERESANO/Data/CTA/analyses/\"\n",
    "analysisName = \"v0.3.0\"\n",
    "\n",
    "# Files\n",
    "opti = 'opti'  # r68, fixed, opti\n",
    "filenames = {'100s': 'irf_tail_ThSq_opti_Time100.00s/irf.fits.gz',\n",
    "             '30m': 'irf_tail_ThSq_opti_Time30.00min/irf.fits.gz',\n",
    "             '5h': 'irf_tail_ThSq_opti_Time5.00h/irf.fits.gz',\n",
    "             '50h': 'irf_tail_ThSq_opti_Time50.00h/irf.fits.gz'}\n",
    "    \n",
    "# Full array performance\n",
    "indir = f\"{parentDir}/shared_folder/analyses/{analysisName}/data/DL3\"\n",
    "perf_v030 = dict()\n",
    "for key in filenames.keys():\n",
    "    perf_v030[key] = get_performance(os.path.join(indir, filenames[key]))"
   ]
  },
  {
   "cell_type": "code",
   "execution_count": null,
   "metadata": {},
   "outputs": [],
   "source": [
    "parentDir = \"/Users/michele/Applications/ctasoft/dirac\" # Path to Vagrant Box\n",
    "analysisName = \"development_version\" # name of the analysis\n",
    "\n",
    "# Files\n",
    "opti = 'opti'  # r68, fixed, opti\n",
    "filenames = {#'100s': 'irf_tail_ThSq_opti_Time100.00s/irf.fits.gz',\n",
    "             #'30m': 'irf_tail_ThSq_opti_Time30.00min/irf.fits.gz',\n",
    "             #'5h': 'irf_tail_ThSq_opti_Time5.00h/irf.fits.gz',\n",
    "             '50h': 'irf_tail_ThSq_opti_Time50.00h/irf.fits.gz'}\n",
    "    \n",
    "# Input data\n",
    "indir = f\"{parentDir}/shared_folder/analyses/{analysisName}/data/DL3\"\n",
    "perf = dict()\n",
    "for key in filenames.keys():\n",
    "    perf[key] = get_performance(os.path.join(indir, filenames[key]))"
   ]
  },
  {
   "cell_type": "markdown",
   "metadata": {
    "nbsphinx": "hidden"
   },
   "source": [
    "### ASWG's performance\n",
    "[back to top](#Table-of-contents)"
   ]
  },
  {
   "cell_type": "code",
   "execution_count": null,
   "metadata": {},
   "outputs": [],
   "source": [
    "indir = './reference_data/aswg/point-like/LaPalma_20_South/'\n",
    "indir = os.path.expandvars(indir)\n",
    "    \n",
    "filenames = {'100s': 'CTA-Performance-North-20deg-S-onaxis-100s_20170627.fits.gz',\n",
    "             '30m': 'CTA-Performance-North-20deg-S-onaxis-30m_20170627.fits.gz',\n",
    "             '5h': 'CTA-Performance-North-20deg-S-onaxis-05h_20170627.fits.gz', \n",
    "             '50h': 'CTA-Performance-North-20deg-S-onaxis-50h_20170627.fits.gz'}\n",
    "perf_mars_fullarray = dict()\n",
    "for key in filenames.keys():\n",
    "    perf_mars_fullarray[key] = get_performance(os.path.join(indir, filenames[key]))"
   ]
  },
  {
   "cell_type": "markdown",
   "metadata": {
    "nbsphinx": "hidden"
   },
   "source": [
    "### Requirements\n",
    "[back to top](#Table-of-contents)"
   ]
  },
  {
   "cell_type": "code",
   "execution_count": null,
   "metadata": {},
   "outputs": [],
   "source": [
    "indir = './reference_data/requirements/'\n",
    "\n",
    "# Full array\n",
    "infiles = dict(sens=f'/{site}-{obs_time}.dat') # 30 min\n",
    "requirements = dict()\n",
    "for key in infiles.keys():\n",
    "    requirements[key] = Table.read(indir + infiles[key], format='ascii')\n",
    "requirements['sens'].add_column(Column(data=(10**requirements['sens']['col1']), name='ENERGY'))\n",
    "requirements['sens'].add_column(Column(data=requirements['sens']['col2'], name='SENSITIVITY'))"
   ]
  },
  {
   "cell_type": "markdown",
   "metadata": {},
   "source": [
    "## Instrument Response Functions\n",
    "[back to top](#Table-of-contents)"
   ]
  },
  {
   "cell_type": "code",
   "execution_count": null,
   "metadata": {},
   "outputs": [],
   "source": [
    "plt.figure(figsize=(10, 8))\n",
    "\n",
    "ax_bkg = plt.subplot2grid((2, 2), (0, 0))\n",
    "ax_area = plt.subplot2grid((2, 2), (0, 1))\n",
    "ax_psf = plt.subplot2grid((2, 2), (1, 0))\n",
    "ax_resol = plt.subplot2grid((2, 2), (1, 1))\n",
    "axes = [ax_bkg, ax_area, ax_psf, ax_resol]\n",
    "\n",
    "plot_irf(axes=axes, perf=perf[obs_time], label=\"Full array (protopipe)\", energy_range=[0.01, 51.], **{'color': 'darkgreen', 'lw': 2})\n",
    "plot_irf(axes=axes, perf=perf_mars_fullarray[obs_time], label=\"Full array (MARS)\", energy_range=[0.01, 51.], **{'color': 'darkblue', 'lw': 2})\n",
    "\n",
    "for ax in axes:\n",
    "    ax.grid()\n",
    "    ax.legend(loc='best')\n",
    "    ax.set_xscale('log')\n",
    "    ax.set_xlim([0.02, 200])\n",
    "\n",
    "plt.tight_layout()\n",
    "plt.savefig(f\"./plots/IRFs_{site}_{array}_{obs_time}_protopipe_{analysisName}.png\")"
   ]
  },
  {
   "cell_type": "markdown",
   "metadata": {},
   "source": [
    "## Sensitivity\n",
    "[back to top](#Table-of-contents)"
   ]
  },
  {
   "cell_type": "code",
   "execution_count": null,
   "metadata": {},
   "outputs": [],
   "source": [
    "minEnergy = 2.e-2\n",
    "maxEnergy = 2.e2\n",
    "\n",
    "ax_sens, ax_res = plot_sensitivity_comparison(\n",
    "    list_perf=[perf, perf_v030, perf_mars_fullarray],\n",
    "    list_label=['protopipe v0.4.0dev', 'protopipe v0.3.0', 'CTAMARS'],\n",
    "    list_color=['darkorange', 'darkgreen', 'darkblue'],\n",
    "    list_erange=[[minEnergy, maxEnergy], [minEnergy, maxEnergy], [minEnergy, maxEnergy]],\n",
    "    perf_ref=perf_v030,\n",
    "    config=obs_time,\n",
    "    title = f\"{site}_{array}_{obs_time}_zd{zenith}_az{azimuth}\",\n",
    "    figsize=(10, 8)\n",
    ")\n",
    "\n",
    "ax_sens.plot(requirements['sens']['ENERGY'], \n",
    "             requirements['sens']['SENSITIVITY'], \n",
    "             color='black', \n",
    "             ls='--', \n",
    "             lw=4, \n",
    "             label='Requirements')\n",
    "\n",
    "ax_sens.legend(loc='upper right', fontsize='large')\n",
    "\n",
    "ax_res.set_xlim([minEnergy, maxEnergy])\n",
    "ax_res.set_ylim([-1., 1.])\n",
    "\n",
    "ax_sens.set_xlim([minEnergy, maxEnergy])\n",
    "ax_sens.set_ylim([5.e-14, 1.e-9])\n",
    "\n",
    "#plt.tight_layout()\n",
    "plt.savefig(f\"./plots/sensitivity_{site}_{array}_{obs_time}_protopipe.png\")"
   ]
  }
 ],
 "metadata": {
  "kernelspec": {
   "display_name": "Python 3",
   "language": "python",
   "name": "python3"
  },
  "language_info": {
   "codemirror_mode": {
    "name": "ipython",
    "version": 3
   },
   "file_extension": ".py",
   "mimetype": "text/x-python",
   "name": "python",
   "nbconvert_exporter": "python",
   "pygments_lexer": "ipython3",
   "version": "3.7.9"
  }
 },
 "nbformat": 4,
 "nbformat_minor": 4
}
